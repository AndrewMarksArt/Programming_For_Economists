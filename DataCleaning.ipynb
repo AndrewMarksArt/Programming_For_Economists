{
 "cells": [
  {
   "cell_type": "code",
   "execution_count": 441,
   "metadata": {},
   "outputs": [],
   "source": [
    "import pandas as pd\n",
    "import numpy as np\n",
    "import matplotlib.pyplot as plt\n",
    "\n",
    "from datetime import datetime\n",
    "from ast import literal_eval\n",
    "from forex_python.converter import CurrencyRates\n",
    "import cpi"
   ]
  },
  {
   "cell_type": "code",
   "execution_count": 434,
   "metadata": {},
   "outputs": [],
   "source": [
    "c = CurrencyRates()"
   ]
  },
  {
   "cell_type": "code",
   "execution_count": 358,
   "metadata": {},
   "outputs": [],
   "source": [
    "path = r\"./data_files/Phillips/\""
   ]
  },
  {
   "cell_type": "code",
   "execution_count": 359,
   "metadata": {},
   "outputs": [
    {
     "data": {
      "text/html": [
       "<div>\n",
       "<style scoped>\n",
       "    .dataframe tbody tr th:only-of-type {\n",
       "        vertical-align: middle;\n",
       "    }\n",
       "\n",
       "    .dataframe tbody tr th {\n",
       "        vertical-align: top;\n",
       "    }\n",
       "\n",
       "    .dataframe thead th {\n",
       "        text-align: right;\n",
       "    }\n",
       "</style>\n",
       "<table border=\"1\" class=\"dataframe\">\n",
       "  <thead>\n",
       "    <tr style=\"text-align: right;\">\n",
       "      <th></th>\n",
       "      <th>artist</th>\n",
       "      <th>title</th>\n",
       "      <th>year_made</th>\n",
       "      <th>medium</th>\n",
       "      <th>size</th>\n",
       "      <th>estimates</th>\n",
       "      <th>sale_price</th>\n",
       "      <th>sale_details</th>\n",
       "      <th>img_url</th>\n",
       "      <th>lot_url</th>\n",
       "    </tr>\n",
       "  </thead>\n",
       "  <tbody>\n",
       "    <tr>\n",
       "      <th>0</th>\n",
       "      <td>Anselm Reyle</td>\n",
       "      <td>Untitled</td>\n",
       "      <td>2005</td>\n",
       "      <td>Mixed media on canvas in Plexiglas frame.</td>\n",
       "      <td>92 x 78 3/8 x 15 3/4 in. (233.7 x 199.1 x 40 cm).</td>\n",
       "      <td>['£25,000', '35,000']</td>\n",
       "      <td>£31,200</td>\n",
       "      <td>['14', 'Oct', '2006,', '7pm', 'London']</td>\n",
       "      <td>https://assets.phillips.com/image/upload/t_Web...</td>\n",
       "      <td>https://www.phillips.com/detail/anselm-reyle/U...</td>\n",
       "    </tr>\n",
       "    <tr>\n",
       "      <th>1</th>\n",
       "      <td>Paul Pfeiffer</td>\n",
       "      <td>Four Horsemen of the Apocalypse (11)</td>\n",
       "      <td>2004</td>\n",
       "      <td>Fujiflex digital c-print.</td>\n",
       "      <td>This work is from an edition of six and is acc...</td>\n",
       "      <td>['£15,000', '20,000']</td>\n",
       "      <td>£16,800</td>\n",
       "      <td>['14', 'Oct', '2006,', '7pm', 'London']</td>\n",
       "      <td>https://assets.phillips.com/image/upload/t_Web...</td>\n",
       "      <td>https://www.phillips.com/detail/paul-pfeiffer/...</td>\n",
       "    </tr>\n",
       "    <tr>\n",
       "      <th>2</th>\n",
       "      <td>Tom Friedman</td>\n",
       "      <td>Untitled</td>\n",
       "      <td>1999</td>\n",
       "      <td>Wood and paint with wire support.</td>\n",
       "      <td>Sculpture: 1/16 x 1/16 x 3/16 in. (.2 x .2 x ....</td>\n",
       "      <td>['£30,000', '40,000']</td>\n",
       "      <td>£34,800</td>\n",
       "      <td>['14', 'Oct', '2006,', '7pm', 'London']</td>\n",
       "      <td>https://assets.phillips.com/image/upload/t_Web...</td>\n",
       "      <td>https://www.phillips.com/detail/tom-friedman/U...</td>\n",
       "    </tr>\n",
       "    <tr>\n",
       "      <th>3</th>\n",
       "      <td>Johannes Kahrs</td>\n",
       "      <td>Untitled</td>\n",
       "      <td>1999</td>\n",
       "      <td>Oil on canvas.</td>\n",
       "      <td>Signed and dated twice “J Kahrs 1999” on the r...</td>\n",
       "      <td>['£30,000', '40,000']</td>\n",
       "      <td>£78,000</td>\n",
       "      <td>['14', 'Oct', '2006,', '7pm', 'London']</td>\n",
       "      <td>https://assets.phillips.com/image/upload/t_Web...</td>\n",
       "      <td>https://www.phillips.com/detail/johannes-kahrs...</td>\n",
       "    </tr>\n",
       "    <tr>\n",
       "      <th>4</th>\n",
       "      <td>Ronan and Erwan Bouroullec</td>\n",
       "      <td>\"Honda\" vase</td>\n",
       "      <td>2001</td>\n",
       "      <td>Painted fiberglass, plastic, lead; internal fl...</td>\n",
       "      <td>Produced by Galerie Kreo, Paris. Number 3 from...</td>\n",
       "      <td>['£10,000', '15,000']</td>\n",
       "      <td>£18,000</td>\n",
       "      <td>['14', 'Oct', '2006,', '7pm', 'London']</td>\n",
       "      <td>https://assets.phillips.com/image/upload/t_Web...</td>\n",
       "      <td>https://www.phillips.com/detail/ronan-and-erwa...</td>\n",
       "    </tr>\n",
       "  </tbody>\n",
       "</table>\n",
       "</div>"
      ],
      "text/plain": [
       "                       artist                                 title year_made  \\\n",
       "0                Anselm Reyle                              Untitled      2005   \n",
       "1               Paul Pfeiffer  Four Horsemen of the Apocalypse (11)      2004   \n",
       "2                Tom Friedman                              Untitled      1999   \n",
       "3              Johannes Kahrs                              Untitled      1999   \n",
       "4  Ronan and Erwan Bouroullec                          \"Honda\" vase      2001   \n",
       "\n",
       "                                              medium  \\\n",
       "0          Mixed media on canvas in Plexiglas frame.   \n",
       "1                          Fujiflex digital c-print.   \n",
       "2                  Wood and paint with wire support.   \n",
       "3                                     Oil on canvas.   \n",
       "4  Painted fiberglass, plastic, lead; internal fl...   \n",
       "\n",
       "                                                size              estimates  \\\n",
       "0  92 x 78 3/8 x 15 3/4 in. (233.7 x 199.1 x 40 cm).  ['£25,000', '35,000']   \n",
       "1  This work is from an edition of six and is acc...  ['£15,000', '20,000']   \n",
       "2  Sculpture: 1/16 x 1/16 x 3/16 in. (.2 x .2 x ....  ['£30,000', '40,000']   \n",
       "3  Signed and dated twice “J Kahrs 1999” on the r...  ['£30,000', '40,000']   \n",
       "4  Produced by Galerie Kreo, Paris. Number 3 from...  ['£10,000', '15,000']   \n",
       "\n",
       "  sale_price                             sale_details  \\\n",
       "0    £31,200  ['14', 'Oct', '2006,', '7pm', 'London']   \n",
       "1    £16,800  ['14', 'Oct', '2006,', '7pm', 'London']   \n",
       "2    £34,800  ['14', 'Oct', '2006,', '7pm', 'London']   \n",
       "3    £78,000  ['14', 'Oct', '2006,', '7pm', 'London']   \n",
       "4    £18,000  ['14', 'Oct', '2006,', '7pm', 'London']   \n",
       "\n",
       "                                             img_url  \\\n",
       "0  https://assets.phillips.com/image/upload/t_Web...   \n",
       "1  https://assets.phillips.com/image/upload/t_Web...   \n",
       "2  https://assets.phillips.com/image/upload/t_Web...   \n",
       "3  https://assets.phillips.com/image/upload/t_Web...   \n",
       "4  https://assets.phillips.com/image/upload/t_Web...   \n",
       "\n",
       "                                             lot_url  \n",
       "0  https://www.phillips.com/detail/anselm-reyle/U...  \n",
       "1  https://www.phillips.com/detail/paul-pfeiffer/...  \n",
       "2  https://www.phillips.com/detail/tom-friedman/U...  \n",
       "3  https://www.phillips.com/detail/johannes-kahrs...  \n",
       "4  https://www.phillips.com/detail/ronan-and-erwa...  "
      ]
     },
     "execution_count": 359,
     "metadata": {},
     "output_type": "execute_result"
    }
   ],
   "source": [
    "df = pd.read_csv(path + \"test_run.csv\")\n",
    "df.columns = [\n",
    "    \"artist\", \"title\", \"year_made\", \"medium\", \"size\", \"estimates\", \"sale_price\", \"sale_details\", \"img_url\", \"lot_url\"\n",
    "]\n",
    "df.head()"
   ]
  },
  {
   "cell_type": "markdown",
   "metadata": {},
   "source": [
    "# Split estimate into high and low estimate and clean values"
   ]
  },
  {
   "cell_type": "code",
   "execution_count": 360,
   "metadata": {},
   "outputs": [],
   "source": [
    "df['low_est'] = df['estimates'].apply(lambda x: x.split(\" \")[0])\n",
    "df['high_est'] = df['estimates'].apply(lambda x: x.split(\" \")[-1])"
   ]
  },
  {
   "cell_type": "code",
   "execution_count": 361,
   "metadata": {},
   "outputs": [],
   "source": [
    "df['low_est'] = df['low_est'].apply(lambda x: x.replace(\"[\", \"\").replace(\",\", \"\").replace(\"'\", \"\").replace(\"£\", \"\").replace(\"$\",\"\").replace(\"HK\", \"\"))"
   ]
  },
  {
   "cell_type": "code",
   "execution_count": 362,
   "metadata": {},
   "outputs": [],
   "source": [
    "df['high_est'] = df['high_est'].apply(lambda x: x.replace(\"]\", \"\").replace(\",\", \"\").replace(\"'\", \"\"))"
   ]
  },
  {
   "cell_type": "code",
   "execution_count": 363,
   "metadata": {},
   "outputs": [],
   "source": [
    "df['low_est'].replace('cant', np.nan, inplace = True)\n",
    "df['low_est'].replace('on]', np.nan, inplace = True)"
   ]
  },
  {
   "cell_type": "code",
   "execution_count": 364,
   "metadata": {},
   "outputs": [],
   "source": [
    "df['high_est'].replace('estimate', np.nan, inplace = True)\n",
    "df['high_est'].replace('[on', np.nan, inplace = True)"
   ]
  },
  {
   "cell_type": "code",
   "execution_count": 365,
   "metadata": {},
   "outputs": [
    {
     "data": {
      "text/plain": [
       "0       35000.0\n",
       "1       20000.0\n",
       "2       40000.0\n",
       "3       40000.0\n",
       "4       15000.0\n",
       "         ...   \n",
       "4689     1500.0\n",
       "4690     3500.0\n",
       "4691     3500.0\n",
       "4692     1500.0\n",
       "4693     3500.0\n",
       "Name: high_est, Length: 4694, dtype: float64"
      ]
     },
     "execution_count": 365,
     "metadata": {},
     "output_type": "execute_result"
    }
   ],
   "source": [
    "df['high_est'].astype(float)"
   ]
  },
  {
   "cell_type": "code",
   "execution_count": null,
   "metadata": {},
   "outputs": [],
   "source": []
  },
  {
   "cell_type": "code",
   "execution_count": null,
   "metadata": {},
   "outputs": [],
   "source": []
  },
  {
   "cell_type": "markdown",
   "metadata": {},
   "source": [
    "# clean sale price and fill in 'cant find' with 0"
   ]
  },
  {
   "cell_type": "code",
   "execution_count": 366,
   "metadata": {},
   "outputs": [
    {
     "data": {
      "text/plain": [
       "not sold or cant find sale price    1067\n",
       "£12,500                               41\n",
       "£3,750                                41\n",
       "£5,000                                39\n",
       "£10,000                               37\n",
       "                                    ... \n",
       "£116,500                               1\n",
       "$141,600                               1\n",
       "$4,820,000                             1\n",
       "£951,000                               1\n",
       "$1,000                                 1\n",
       "Name: sale_price, Length: 1094, dtype: int64"
      ]
     },
     "execution_count": 366,
     "metadata": {},
     "output_type": "execute_result"
    }
   ],
   "source": [
    "df['sale_price'].value_counts()"
   ]
  },
  {
   "cell_type": "code",
   "execution_count": 367,
   "metadata": {},
   "outputs": [],
   "source": [
    "df['sale_price'].replace(\"not sold or cant find sale price\", 0, inplace = True)"
   ]
  },
  {
   "cell_type": "code",
   "execution_count": 368,
   "metadata": {},
   "outputs": [],
   "source": [
    "df['sale_price'] = df['sale_price'].apply(lambda x: str(x).replace(\"$\", \"\").replace(\"£\", \"\").replace(\",\",\"\").replace(\"HK\", \"\"))"
   ]
  },
  {
   "cell_type": "code",
   "execution_count": 369,
   "metadata": {},
   "outputs": [
    {
     "data": {
      "text/plain": [
       "0       31200.0\n",
       "1       16800.0\n",
       "2       34800.0\n",
       "3       78000.0\n",
       "4       18000.0\n",
       "         ...   \n",
       "4689     3120.0\n",
       "4690     2400.0\n",
       "4691     6000.0\n",
       "4692    13200.0\n",
       "4693    13200.0\n",
       "Name: sale_price, Length: 4694, dtype: float64"
      ]
     },
     "execution_count": 369,
     "metadata": {},
     "output_type": "execute_result"
    }
   ],
   "source": [
    "df['sale_price'].astype(float)"
   ]
  },
  {
   "cell_type": "code",
   "execution_count": null,
   "metadata": {},
   "outputs": [],
   "source": []
  },
  {
   "cell_type": "markdown",
   "metadata": {},
   "source": [
    "# Clean Sale_Details --> pull out Location and Date"
   ]
  },
  {
   "cell_type": "code",
   "execution_count": 370,
   "metadata": {},
   "outputs": [],
   "source": [
    "df['sale_details'].replace(\"cant find sale location\", np.nan, inplace = True)"
   ]
  },
  {
   "cell_type": "code",
   "execution_count": 371,
   "metadata": {},
   "outputs": [
    {
     "data": {
      "text/plain": [
       "['14', 'Oct', '2006,', '7pm', 'London']"
      ]
     },
     "execution_count": 371,
     "metadata": {},
     "output_type": "execute_result"
    }
   ],
   "source": [
    "temp = literal_eval(df['sale_details'][0])\n",
    "temp"
   ]
  },
  {
   "cell_type": "code",
   "execution_count": 372,
   "metadata": {},
   "outputs": [],
   "source": [
    "def get_month_year(x, months):\n",
    "    try:\n",
    "        temp = literal_eval(x)\n",
    "        for i in range(len(temp)):\n",
    "            if temp[i] in months:\n",
    "                x = temp[i:i+2]\n",
    "\n",
    "        return ' '.join(map(str, x)).replace(\",\",\"\")\n",
    "    except:\n",
    "        pass"
   ]
  },
  {
   "cell_type": "code",
   "execution_count": 373,
   "metadata": {},
   "outputs": [],
   "source": [
    "months = [\n",
    "    'Jan', 'January',\n",
    "    'Feb', 'February',\n",
    "    'Mar', 'March',\n",
    "    'Apr', 'April',\n",
    "    'May',\n",
    "    'June',\n",
    "    'July',\n",
    "    'Aug', 'August',\n",
    "    'September',\n",
    "    'Oct', 'October',\n",
    "    'Nov', 'November',\n",
    "    'Dec', 'December'\n",
    "]"
   ]
  },
  {
   "cell_type": "code",
   "execution_count": 374,
   "metadata": {},
   "outputs": [
    {
     "data": {
      "text/plain": [
       "\"['17', 'Nov', '2006,', '10am', '&', '2pm', 'New', 'York']\""
      ]
     },
     "execution_count": 374,
     "metadata": {},
     "output_type": "execute_result"
    }
   ],
   "source": [
    "x = df['sale_details'][3000]\n",
    "x"
   ]
  },
  {
   "cell_type": "code",
   "execution_count": 375,
   "metadata": {},
   "outputs": [
    {
     "data": {
      "text/plain": [
       "0           Oct 2006\n",
       "1           Oct 2006\n",
       "2           Oct 2006\n",
       "3           Oct 2006\n",
       "4           Oct 2006\n",
       "            ...     \n",
       "4689    October 2007\n",
       "4690    October 2007\n",
       "4691    October 2007\n",
       "4692    October 2007\n",
       "4693    October 2007\n",
       "Name: sale_date, Length: 4694, dtype: object"
      ]
     },
     "execution_count": 375,
     "metadata": {},
     "output_type": "execute_result"
    }
   ],
   "source": [
    "df['sale_date'] = df['sale_details'].apply(lambda x: get_month_year(x, months))\n",
    "df['sale_date']"
   ]
  },
  {
   "cell_type": "code",
   "execution_count": 380,
   "metadata": {},
   "outputs": [],
   "source": [
    "def get_year(x):  \n",
    "    try:\n",
    "        temp = x.split(\" \")[-1]\n",
    "        if temp == \"May\":\n",
    "            pass\n",
    "        elif temp == \"5\":\n",
    "            pass\n",
    "        else:\n",
    "            return temp\n",
    "    except:\n",
    "        pass\n",
    "\n",
    "def get_month(x):\n",
    "    try:\n",
    "        month = x.split(\" \")[0]\n",
    "        if len(month) > 3:\n",
    "            month = month[:3]\n",
    "        return month\n",
    "    except:\n",
    "        pass"
   ]
  },
  {
   "cell_type": "code",
   "execution_count": 381,
   "metadata": {},
   "outputs": [
    {
     "data": {
      "text/plain": [
       "2008    975\n",
       "2019    789\n",
       "2007    644\n",
       "2006    518\n",
       "2009    444\n",
       "2011    322\n",
       "2010    255\n",
       "2012    252\n",
       "2017    107\n",
       "2016     86\n",
       "2015     66\n",
       "2013     38\n",
       "2020     38\n",
       "2018     31\n",
       "Name: sale_date, dtype: int64"
      ]
     },
     "execution_count": 381,
     "metadata": {},
     "output_type": "execute_result"
    }
   ],
   "source": [
    "df['sale_date'].apply(lambda x: get_year(x)).value_counts()"
   ]
  },
  {
   "cell_type": "code",
   "execution_count": 382,
   "metadata": {},
   "outputs": [],
   "source": [
    "df['sale_month'] = df['sale_date'].apply(lambda x: get_month(x))\n",
    "df['sale_year'] = df['sale_date'].apply(lambda x: get_year(x))"
   ]
  },
  {
   "cell_type": "code",
   "execution_count": 383,
   "metadata": {},
   "outputs": [],
   "source": [
    "locations = [\n",
    "    \"London\",\n",
    "    \"Hong Kong\",\n",
    "    \"New York\",\n",
    "    \"Online\",\n",
    "    \"Geneva\"\n",
    "]"
   ]
  },
  {
   "cell_type": "code",
   "execution_count": 384,
   "metadata": {},
   "outputs": [
    {
     "data": {
      "text/plain": [
       "['17', 'Nov', '2006,', '10am', '&', '2pm', 'New', 'York']"
      ]
     },
     "execution_count": 384,
     "metadata": {},
     "output_type": "execute_result"
    }
   ],
   "source": [
    "temp = literal_eval(df['sale_details'][3000])\n",
    "temp"
   ]
  },
  {
   "cell_type": "code",
   "execution_count": 385,
   "metadata": {},
   "outputs": [
    {
     "data": {
      "text/plain": [
       "'17 Nov 2006, 10am & 2pm New York'"
      ]
     },
     "execution_count": 385,
     "metadata": {},
     "output_type": "execute_result"
    }
   ],
   "source": [
    "x = \" \".join(map(str, temp))\n",
    "x"
   ]
  },
  {
   "cell_type": "code",
   "execution_count": 386,
   "metadata": {},
   "outputs": [],
   "source": [
    "def get_location(x):\n",
    "    try:\n",
    "        temp = \" \".join(map(str, literal_eval(x)))\n",
    "\n",
    "        for location in locations:\n",
    "            if location in temp:\n",
    "                return location\n",
    "    except:\n",
    "        pass"
   ]
  },
  {
   "cell_type": "code",
   "execution_count": 387,
   "metadata": {},
   "outputs": [
    {
     "data": {
      "text/plain": [
       "0       London\n",
       "1       London\n",
       "2       London\n",
       "3       London\n",
       "4       London\n",
       "         ...  \n",
       "4689    London\n",
       "4690    London\n",
       "4691    London\n",
       "4692    London\n",
       "4693    London\n",
       "Name: sale_location, Length: 4694, dtype: object"
      ]
     },
     "execution_count": 387,
     "metadata": {},
     "output_type": "execute_result"
    }
   ],
   "source": [
    "df['sale_location'] = df['sale_details'].apply(lambda x: get_location(x))\n",
    "df['sale_location']"
   ]
  },
  {
   "cell_type": "code",
   "execution_count": 388,
   "metadata": {},
   "outputs": [
    {
     "data": {
      "text/plain": [
       "London       2743\n",
       "New York     1480\n",
       "Hong Kong     281\n",
       "Online        130\n",
       "Geneva         13\n",
       "Name: sale_location, dtype: int64"
      ]
     },
     "execution_count": 388,
     "metadata": {},
     "output_type": "execute_result"
    }
   ],
   "source": [
    "df['sale_location'].value_counts()"
   ]
  },
  {
   "cell_type": "code",
   "execution_count": null,
   "metadata": {},
   "outputs": [],
   "source": []
  },
  {
   "cell_type": "code",
   "execution_count": null,
   "metadata": {},
   "outputs": [],
   "source": []
  },
  {
   "cell_type": "code",
   "execution_count": 389,
   "metadata": {},
   "outputs": [
    {
     "data": {
      "text/plain": [
       "London       2743\n",
       "New York     1480\n",
       "Hong Kong     281\n",
       "Online        130\n",
       "Name: sale_location, dtype: int64"
      ]
     },
     "execution_count": 389,
     "metadata": {},
     "output_type": "execute_result"
    }
   ],
   "source": [
    "df = df[df['sale_location'] != 'Geneva']\n",
    "df['sale_location'].value_counts()"
   ]
  },
  {
   "cell_type": "code",
   "execution_count": null,
   "metadata": {},
   "outputs": [],
   "source": []
  },
  {
   "cell_type": "code",
   "execution_count": 390,
   "metadata": {},
   "outputs": [],
   "source": [
    "test.reset_index(drop=True, inplace=True)"
   ]
  },
  {
   "cell_type": "code",
   "execution_count": 391,
   "metadata": {},
   "outputs": [],
   "source": [
    "currency = [\n",
    "    '£',\n",
    "    '$',\n",
    "    'HK$',\n",
    "]"
   ]
  },
  {
   "cell_type": "code",
   "execution_count": 392,
   "metadata": {},
   "outputs": [
    {
     "data": {
      "text/plain": [
       "London       2743\n",
       "New York     1480\n",
       "Hong Kong     281\n",
       "Online        130\n",
       "Name: sale_location, dtype: int64"
      ]
     },
     "execution_count": 392,
     "metadata": {},
     "output_type": "execute_result"
    }
   ],
   "source": [
    "df['sale_location'].value_counts()"
   ]
  },
  {
   "cell_type": "code",
   "execution_count": 393,
   "metadata": {},
   "outputs": [
    {
     "data": {
      "text/plain": [
       "False"
      ]
     },
     "execution_count": 393,
     "metadata": {},
     "output_type": "execute_result"
    }
   ],
   "source": [
    "'$' in test['estimates'][100]"
   ]
  },
  {
   "cell_type": "code",
   "execution_count": null,
   "metadata": {},
   "outputs": [],
   "source": []
  },
  {
   "cell_type": "code",
   "execution_count": 394,
   "metadata": {},
   "outputs": [],
   "source": [
    "def set_currency(x):\n",
    "    if x == \"London\":\n",
    "        return \"GBP\"\n",
    "    elif x == \"New York\":\n",
    "        return \"USD\"\n",
    "    elif x == \"Hong Kong\":\n",
    "        return \"HKD\"\n",
    "    elif x == \"Online\":\n",
    "        return \"Online\"\n",
    "    else:\n",
    "        return np.nan"
   ]
  },
  {
   "cell_type": "code",
   "execution_count": null,
   "metadata": {},
   "outputs": [],
   "source": []
  },
  {
   "cell_type": "code",
   "execution_count": 395,
   "metadata": {},
   "outputs": [
    {
     "data": {
      "text/plain": [
       "0       GBP\n",
       "1       GBP\n",
       "2       GBP\n",
       "3       GBP\n",
       "4       GBP\n",
       "       ... \n",
       "4689    GBP\n",
       "4690    GBP\n",
       "4691    GBP\n",
       "4692    GBP\n",
       "4693    GBP\n",
       "Name: currency, Length: 4681, dtype: object"
      ]
     },
     "execution_count": 395,
     "metadata": {},
     "output_type": "execute_result"
    }
   ],
   "source": [
    "df['currency'] = df['sale_location'].apply(lambda x: set_currency(x))\n",
    "df['currency']"
   ]
  },
  {
   "cell_type": "code",
   "execution_count": 396,
   "metadata": {},
   "outputs": [
    {
     "data": {
      "text/plain": [
       "GBP       2743\n",
       "USD       1480\n",
       "HKD        281\n",
       "Online     130\n",
       "Name: currency, dtype: int64"
      ]
     },
     "execution_count": 396,
     "metadata": {},
     "output_type": "execute_result"
    }
   ],
   "source": [
    "df['currency'].value_counts()"
   ]
  },
  {
   "cell_type": "code",
   "execution_count": 413,
   "metadata": {},
   "outputs": [
    {
     "data": {
      "text/html": [
       "<div>\n",
       "<style scoped>\n",
       "    .dataframe tbody tr th:only-of-type {\n",
       "        vertical-align: middle;\n",
       "    }\n",
       "\n",
       "    .dataframe tbody tr th {\n",
       "        vertical-align: top;\n",
       "    }\n",
       "\n",
       "    .dataframe thead th {\n",
       "        text-align: right;\n",
       "    }\n",
       "</style>\n",
       "<table border=\"1\" class=\"dataframe\">\n",
       "  <thead>\n",
       "    <tr style=\"text-align: right;\">\n",
       "      <th></th>\n",
       "      <th>artist</th>\n",
       "      <th>sale_price</th>\n",
       "      <th>low_est</th>\n",
       "      <th>high_est</th>\n",
       "      <th>sale_month</th>\n",
       "      <th>sale_year</th>\n",
       "      <th>sale_location</th>\n",
       "      <th>currency</th>\n",
       "    </tr>\n",
       "  </thead>\n",
       "  <tbody>\n",
       "    <tr>\n",
       "      <th>0</th>\n",
       "      <td>Anselm Reyle</td>\n",
       "      <td>31200</td>\n",
       "      <td>25000</td>\n",
       "      <td>35000</td>\n",
       "      <td>Oct</td>\n",
       "      <td>2006</td>\n",
       "      <td>London</td>\n",
       "      <td>GBP</td>\n",
       "    </tr>\n",
       "    <tr>\n",
       "      <th>1</th>\n",
       "      <td>Paul Pfeiffer</td>\n",
       "      <td>16800</td>\n",
       "      <td>15000</td>\n",
       "      <td>20000</td>\n",
       "      <td>Oct</td>\n",
       "      <td>2006</td>\n",
       "      <td>London</td>\n",
       "      <td>GBP</td>\n",
       "    </tr>\n",
       "    <tr>\n",
       "      <th>2</th>\n",
       "      <td>Tom Friedman</td>\n",
       "      <td>34800</td>\n",
       "      <td>30000</td>\n",
       "      <td>40000</td>\n",
       "      <td>Oct</td>\n",
       "      <td>2006</td>\n",
       "      <td>London</td>\n",
       "      <td>GBP</td>\n",
       "    </tr>\n",
       "    <tr>\n",
       "      <th>3</th>\n",
       "      <td>Johannes Kahrs</td>\n",
       "      <td>78000</td>\n",
       "      <td>30000</td>\n",
       "      <td>40000</td>\n",
       "      <td>Oct</td>\n",
       "      <td>2006</td>\n",
       "      <td>London</td>\n",
       "      <td>GBP</td>\n",
       "    </tr>\n",
       "    <tr>\n",
       "      <th>4</th>\n",
       "      <td>Ronan and Erwan Bouroullec</td>\n",
       "      <td>18000</td>\n",
       "      <td>10000</td>\n",
       "      <td>15000</td>\n",
       "      <td>Oct</td>\n",
       "      <td>2006</td>\n",
       "      <td>London</td>\n",
       "      <td>GBP</td>\n",
       "    </tr>\n",
       "    <tr>\n",
       "      <th>...</th>\n",
       "      <td>...</td>\n",
       "      <td>...</td>\n",
       "      <td>...</td>\n",
       "      <td>...</td>\n",
       "      <td>...</td>\n",
       "      <td>...</td>\n",
       "      <td>...</td>\n",
       "      <td>...</td>\n",
       "    </tr>\n",
       "    <tr>\n",
       "      <th>4689</th>\n",
       "      <td>Afrika (Sergei Bugaev)</td>\n",
       "      <td>3120</td>\n",
       "      <td>1000</td>\n",
       "      <td>1500</td>\n",
       "      <td>Oct</td>\n",
       "      <td>2007</td>\n",
       "      <td>London</td>\n",
       "      <td>GBP</td>\n",
       "    </tr>\n",
       "    <tr>\n",
       "      <th>4690</th>\n",
       "      <td>Anatoly Shuravlev</td>\n",
       "      <td>2400</td>\n",
       "      <td>2500</td>\n",
       "      <td>3500</td>\n",
       "      <td>Oct</td>\n",
       "      <td>2007</td>\n",
       "      <td>London</td>\n",
       "      <td>GBP</td>\n",
       "    </tr>\n",
       "    <tr>\n",
       "      <th>4691</th>\n",
       "      <td>Anatoly Shuravlev</td>\n",
       "      <td>6000</td>\n",
       "      <td>2500</td>\n",
       "      <td>3500</td>\n",
       "      <td>Oct</td>\n",
       "      <td>2007</td>\n",
       "      <td>London</td>\n",
       "      <td>GBP</td>\n",
       "    </tr>\n",
       "    <tr>\n",
       "      <th>4692</th>\n",
       "      <td>Andrei Filippov</td>\n",
       "      <td>13200</td>\n",
       "      <td>1000</td>\n",
       "      <td>1500</td>\n",
       "      <td>Oct</td>\n",
       "      <td>2007</td>\n",
       "      <td>London</td>\n",
       "      <td>GBP</td>\n",
       "    </tr>\n",
       "    <tr>\n",
       "      <th>4693</th>\n",
       "      <td>Vladimir Dubossarsky and Alexandre Vinogradov</td>\n",
       "      <td>13200</td>\n",
       "      <td>2500</td>\n",
       "      <td>3500</td>\n",
       "      <td>Oct</td>\n",
       "      <td>2007</td>\n",
       "      <td>London</td>\n",
       "      <td>GBP</td>\n",
       "    </tr>\n",
       "  </tbody>\n",
       "</table>\n",
       "<p>4681 rows × 8 columns</p>\n",
       "</div>"
      ],
      "text/plain": [
       "                                             artist sale_price low_est  \\\n",
       "0                                      Anselm Reyle      31200   25000   \n",
       "1                                     Paul Pfeiffer      16800   15000   \n",
       "2                                      Tom Friedman      34800   30000   \n",
       "3                                    Johannes Kahrs      78000   30000   \n",
       "4                        Ronan and Erwan Bouroullec      18000   10000   \n",
       "...                                             ...        ...     ...   \n",
       "4689                         Afrika (Sergei Bugaev)       3120    1000   \n",
       "4690                              Anatoly Shuravlev       2400    2500   \n",
       "4691                              Anatoly Shuravlev       6000    2500   \n",
       "4692                                Andrei Filippov      13200    1000   \n",
       "4693  Vladimir Dubossarsky and Alexandre Vinogradov      13200    2500   \n",
       "\n",
       "     high_est sale_month sale_year sale_location currency  \n",
       "0       35000        Oct      2006        London      GBP  \n",
       "1       20000        Oct      2006        London      GBP  \n",
       "2       40000        Oct      2006        London      GBP  \n",
       "3       40000        Oct      2006        London      GBP  \n",
       "4       15000        Oct      2006        London      GBP  \n",
       "...       ...        ...       ...           ...      ...  \n",
       "4689     1500        Oct      2007        London      GBP  \n",
       "4690     3500        Oct      2007        London      GBP  \n",
       "4691     3500        Oct      2007        London      GBP  \n",
       "4692     1500        Oct      2007        London      GBP  \n",
       "4693     3500        Oct      2007        London      GBP  \n",
       "\n",
       "[4681 rows x 8 columns]"
      ]
     },
     "execution_count": 413,
     "metadata": {},
     "output_type": "execute_result"
    }
   ],
   "source": [
    "data = df[['artist', 'sale_price', 'low_est', 'high_est', 'sale_month', 'sale_year', 'sale_location', 'currency']]\n",
    "data"
   ]
  },
  {
   "cell_type": "code",
   "execution_count": 414,
   "metadata": {},
   "outputs": [
    {
     "data": {
      "text/plain": [
       "artist             0\n",
       "sale_price         0\n",
       "low_est           56\n",
       "high_est          56\n",
       "sale_month        47\n",
       "sale_year        129\n",
       "sale_location     47\n",
       "currency          47\n",
       "dtype: int64"
      ]
     },
     "execution_count": 414,
     "metadata": {},
     "output_type": "execute_result"
    }
   ],
   "source": [
    "data.isnull().sum()"
   ]
  },
  {
   "cell_type": "code",
   "execution_count": 415,
   "metadata": {},
   "outputs": [
    {
     "name": "stderr",
     "output_type": "stream",
     "text": [
      "C:\\Users\\Andrew\\anaconda3\\lib\\site-packages\\ipykernel_launcher.py:1: SettingWithCopyWarning: \n",
      "A value is trying to be set on a copy of a slice from a DataFrame\n",
      "\n",
      "See the caveats in the documentation: https://pandas.pydata.org/pandas-docs/stable/user_guide/indexing.html#returning-a-view-versus-a-copy\n",
      "  \"\"\"Entry point for launching an IPython kernel.\n"
     ]
    }
   ],
   "source": [
    "data.dropna(subset=['sale_year'], inplace=True)"
   ]
  },
  {
   "cell_type": "code",
   "execution_count": 416,
   "metadata": {},
   "outputs": [
    {
     "name": "stderr",
     "output_type": "stream",
     "text": [
      "C:\\Users\\Andrew\\anaconda3\\lib\\site-packages\\ipykernel_launcher.py:1: SettingWithCopyWarning: \n",
      "A value is trying to be set on a copy of a slice from a DataFrame\n",
      "\n",
      "See the caveats in the documentation: https://pandas.pydata.org/pandas-docs/stable/user_guide/indexing.html#returning-a-view-versus-a-copy\n",
      "  \"\"\"Entry point for launching an IPython kernel.\n"
     ]
    }
   ],
   "source": [
    "data.dropna(subset=['low_est'], inplace=True)"
   ]
  },
  {
   "cell_type": "code",
   "execution_count": 417,
   "metadata": {},
   "outputs": [
    {
     "data": {
      "text/plain": [
       "artist           0\n",
       "sale_price       0\n",
       "low_est          0\n",
       "high_est         0\n",
       "sale_month       0\n",
       "sale_year        0\n",
       "sale_location    0\n",
       "currency         0\n",
       "dtype: int64"
      ]
     },
     "execution_count": 417,
     "metadata": {},
     "output_type": "execute_result"
    }
   ],
   "source": [
    "data.isnull().sum()"
   ]
  },
  {
   "cell_type": "code",
   "execution_count": null,
   "metadata": {},
   "outputs": [],
   "source": []
  },
  {
   "cell_type": "code",
   "execution_count": null,
   "metadata": {},
   "outputs": [],
   "source": []
  },
  {
   "cell_type": "code",
   "execution_count": 418,
   "metadata": {},
   "outputs": [
    {
     "data": {
      "text/plain": [
       "(4544, 8)"
      ]
     },
     "execution_count": 418,
     "metadata": {},
     "output_type": "execute_result"
    }
   ],
   "source": [
    "data = data.reset_index(drop=True)\n",
    "data.shape"
   ]
  },
  {
   "cell_type": "code",
   "execution_count": 419,
   "metadata": {},
   "outputs": [
    {
     "data": {
      "text/html": [
       "<div>\n",
       "<style scoped>\n",
       "    .dataframe tbody tr th:only-of-type {\n",
       "        vertical-align: middle;\n",
       "    }\n",
       "\n",
       "    .dataframe tbody tr th {\n",
       "        vertical-align: top;\n",
       "    }\n",
       "\n",
       "    .dataframe thead th {\n",
       "        text-align: right;\n",
       "    }\n",
       "</style>\n",
       "<table border=\"1\" class=\"dataframe\">\n",
       "  <thead>\n",
       "    <tr style=\"text-align: right;\">\n",
       "      <th></th>\n",
       "      <th>artist</th>\n",
       "      <th>sale_price</th>\n",
       "      <th>low_est</th>\n",
       "      <th>high_est</th>\n",
       "      <th>sale_month</th>\n",
       "      <th>sale_year</th>\n",
       "      <th>sale_location</th>\n",
       "      <th>currency</th>\n",
       "    </tr>\n",
       "  </thead>\n",
       "  <tbody>\n",
       "    <tr>\n",
       "      <th>0</th>\n",
       "      <td>Anselm Reyle</td>\n",
       "      <td>31200</td>\n",
       "      <td>25000</td>\n",
       "      <td>35000</td>\n",
       "      <td>Oct</td>\n",
       "      <td>2006</td>\n",
       "      <td>London</td>\n",
       "      <td>GBP</td>\n",
       "    </tr>\n",
       "    <tr>\n",
       "      <th>1</th>\n",
       "      <td>Paul Pfeiffer</td>\n",
       "      <td>16800</td>\n",
       "      <td>15000</td>\n",
       "      <td>20000</td>\n",
       "      <td>Oct</td>\n",
       "      <td>2006</td>\n",
       "      <td>London</td>\n",
       "      <td>GBP</td>\n",
       "    </tr>\n",
       "    <tr>\n",
       "      <th>2</th>\n",
       "      <td>Tom Friedman</td>\n",
       "      <td>34800</td>\n",
       "      <td>30000</td>\n",
       "      <td>40000</td>\n",
       "      <td>Oct</td>\n",
       "      <td>2006</td>\n",
       "      <td>London</td>\n",
       "      <td>GBP</td>\n",
       "    </tr>\n",
       "    <tr>\n",
       "      <th>3</th>\n",
       "      <td>Johannes Kahrs</td>\n",
       "      <td>78000</td>\n",
       "      <td>30000</td>\n",
       "      <td>40000</td>\n",
       "      <td>Oct</td>\n",
       "      <td>2006</td>\n",
       "      <td>London</td>\n",
       "      <td>GBP</td>\n",
       "    </tr>\n",
       "    <tr>\n",
       "      <th>4</th>\n",
       "      <td>Ronan and Erwan Bouroullec</td>\n",
       "      <td>18000</td>\n",
       "      <td>10000</td>\n",
       "      <td>15000</td>\n",
       "      <td>Oct</td>\n",
       "      <td>2006</td>\n",
       "      <td>London</td>\n",
       "      <td>GBP</td>\n",
       "    </tr>\n",
       "    <tr>\n",
       "      <th>...</th>\n",
       "      <td>...</td>\n",
       "      <td>...</td>\n",
       "      <td>...</td>\n",
       "      <td>...</td>\n",
       "      <td>...</td>\n",
       "      <td>...</td>\n",
       "      <td>...</td>\n",
       "      <td>...</td>\n",
       "    </tr>\n",
       "    <tr>\n",
       "      <th>4539</th>\n",
       "      <td>Afrika (Sergei Bugaev)</td>\n",
       "      <td>3120</td>\n",
       "      <td>1000</td>\n",
       "      <td>1500</td>\n",
       "      <td>Oct</td>\n",
       "      <td>2007</td>\n",
       "      <td>London</td>\n",
       "      <td>GBP</td>\n",
       "    </tr>\n",
       "    <tr>\n",
       "      <th>4540</th>\n",
       "      <td>Anatoly Shuravlev</td>\n",
       "      <td>2400</td>\n",
       "      <td>2500</td>\n",
       "      <td>3500</td>\n",
       "      <td>Oct</td>\n",
       "      <td>2007</td>\n",
       "      <td>London</td>\n",
       "      <td>GBP</td>\n",
       "    </tr>\n",
       "    <tr>\n",
       "      <th>4541</th>\n",
       "      <td>Anatoly Shuravlev</td>\n",
       "      <td>6000</td>\n",
       "      <td>2500</td>\n",
       "      <td>3500</td>\n",
       "      <td>Oct</td>\n",
       "      <td>2007</td>\n",
       "      <td>London</td>\n",
       "      <td>GBP</td>\n",
       "    </tr>\n",
       "    <tr>\n",
       "      <th>4542</th>\n",
       "      <td>Andrei Filippov</td>\n",
       "      <td>13200</td>\n",
       "      <td>1000</td>\n",
       "      <td>1500</td>\n",
       "      <td>Oct</td>\n",
       "      <td>2007</td>\n",
       "      <td>London</td>\n",
       "      <td>GBP</td>\n",
       "    </tr>\n",
       "    <tr>\n",
       "      <th>4543</th>\n",
       "      <td>Vladimir Dubossarsky and Alexandre Vinogradov</td>\n",
       "      <td>13200</td>\n",
       "      <td>2500</td>\n",
       "      <td>3500</td>\n",
       "      <td>Oct</td>\n",
       "      <td>2007</td>\n",
       "      <td>London</td>\n",
       "      <td>GBP</td>\n",
       "    </tr>\n",
       "  </tbody>\n",
       "</table>\n",
       "<p>4544 rows × 8 columns</p>\n",
       "</div>"
      ],
      "text/plain": [
       "                                             artist sale_price low_est  \\\n",
       "0                                      Anselm Reyle      31200   25000   \n",
       "1                                     Paul Pfeiffer      16800   15000   \n",
       "2                                      Tom Friedman      34800   30000   \n",
       "3                                    Johannes Kahrs      78000   30000   \n",
       "4                        Ronan and Erwan Bouroullec      18000   10000   \n",
       "...                                             ...        ...     ...   \n",
       "4539                         Afrika (Sergei Bugaev)       3120    1000   \n",
       "4540                              Anatoly Shuravlev       2400    2500   \n",
       "4541                              Anatoly Shuravlev       6000    2500   \n",
       "4542                                Andrei Filippov      13200    1000   \n",
       "4543  Vladimir Dubossarsky and Alexandre Vinogradov      13200    2500   \n",
       "\n",
       "     high_est sale_month sale_year sale_location currency  \n",
       "0       35000        Oct      2006        London      GBP  \n",
       "1       20000        Oct      2006        London      GBP  \n",
       "2       40000        Oct      2006        London      GBP  \n",
       "3       40000        Oct      2006        London      GBP  \n",
       "4       15000        Oct      2006        London      GBP  \n",
       "...       ...        ...       ...           ...      ...  \n",
       "4539     1500        Oct      2007        London      GBP  \n",
       "4540     3500        Oct      2007        London      GBP  \n",
       "4541     3500        Oct      2007        London      GBP  \n",
       "4542     1500        Oct      2007        London      GBP  \n",
       "4543     3500        Oct      2007        London      GBP  \n",
       "\n",
       "[4544 rows x 8 columns]"
      ]
     },
     "execution_count": 419,
     "metadata": {},
     "output_type": "execute_result"
    }
   ],
   "source": [
    "data"
   ]
  },
  {
   "cell_type": "code",
   "execution_count": 420,
   "metadata": {},
   "outputs": [
    {
     "data": {
      "text/plain": [
       "GBP       2741\n",
       "USD       1443\n",
       "HKD        230\n",
       "Online     130\n",
       "Name: currency, dtype: int64"
      ]
     },
     "execution_count": 420,
     "metadata": {},
     "output_type": "execute_result"
    }
   ],
   "source": [
    "data['currency'].value_counts()"
   ]
  },
  {
   "cell_type": "code",
   "execution_count": 421,
   "metadata": {},
   "outputs": [
    {
     "data": {
      "text/html": [
       "<div>\n",
       "<style scoped>\n",
       "    .dataframe tbody tr th:only-of-type {\n",
       "        vertical-align: middle;\n",
       "    }\n",
       "\n",
       "    .dataframe tbody tr th {\n",
       "        vertical-align: top;\n",
       "    }\n",
       "\n",
       "    .dataframe thead th {\n",
       "        text-align: right;\n",
       "    }\n",
       "</style>\n",
       "<table border=\"1\" class=\"dataframe\">\n",
       "  <thead>\n",
       "    <tr style=\"text-align: right;\">\n",
       "      <th></th>\n",
       "      <th>artist</th>\n",
       "      <th>sale_price</th>\n",
       "      <th>low_est</th>\n",
       "      <th>high_est</th>\n",
       "      <th>sale_month</th>\n",
       "      <th>sale_year</th>\n",
       "      <th>sale_location</th>\n",
       "      <th>currency</th>\n",
       "    </tr>\n",
       "  </thead>\n",
       "  <tbody>\n",
       "    <tr>\n",
       "      <th>1102</th>\n",
       "      <td>Christina Quarles</td>\n",
       "      <td>8125</td>\n",
       "      <td>6000</td>\n",
       "      <td>8000</td>\n",
       "      <td>Feb</td>\n",
       "      <td>2019</td>\n",
       "      <td>Online</td>\n",
       "      <td>Online</td>\n",
       "    </tr>\n",
       "    <tr>\n",
       "      <th>1103</th>\n",
       "      <td>Lily Stockman</td>\n",
       "      <td>6250</td>\n",
       "      <td>8000</td>\n",
       "      <td>12000</td>\n",
       "      <td>Feb</td>\n",
       "      <td>2019</td>\n",
       "      <td>Online</td>\n",
       "      <td>Online</td>\n",
       "    </tr>\n",
       "    <tr>\n",
       "      <th>1104</th>\n",
       "      <td>Dan Colen</td>\n",
       "      <td>2500</td>\n",
       "      <td>2000</td>\n",
       "      <td>3000</td>\n",
       "      <td>Feb</td>\n",
       "      <td>2019</td>\n",
       "      <td>Online</td>\n",
       "      <td>Online</td>\n",
       "    </tr>\n",
       "    <tr>\n",
       "      <th>1105</th>\n",
       "      <td>Peter Wegner</td>\n",
       "      <td>4375</td>\n",
       "      <td>6000</td>\n",
       "      <td>8000</td>\n",
       "      <td>Feb</td>\n",
       "      <td>2019</td>\n",
       "      <td>Online</td>\n",
       "      <td>Online</td>\n",
       "    </tr>\n",
       "    <tr>\n",
       "      <th>1106</th>\n",
       "      <td>Elad Lassry</td>\n",
       "      <td>4750</td>\n",
       "      <td>5000</td>\n",
       "      <td>7000</td>\n",
       "      <td>Feb</td>\n",
       "      <td>2019</td>\n",
       "      <td>Online</td>\n",
       "      <td>Online</td>\n",
       "    </tr>\n",
       "    <tr>\n",
       "      <th>...</th>\n",
       "      <td>...</td>\n",
       "      <td>...</td>\n",
       "      <td>...</td>\n",
       "      <td>...</td>\n",
       "      <td>...</td>\n",
       "      <td>...</td>\n",
       "      <td>...</td>\n",
       "      <td>...</td>\n",
       "    </tr>\n",
       "    <tr>\n",
       "      <th>1897</th>\n",
       "      <td>Anne Hardy</td>\n",
       "      <td>1000</td>\n",
       "      <td>1000</td>\n",
       "      <td>1500</td>\n",
       "      <td>Jul</td>\n",
       "      <td>2019</td>\n",
       "      <td>Online</td>\n",
       "      <td>Online</td>\n",
       "    </tr>\n",
       "    <tr>\n",
       "      <th>1898</th>\n",
       "      <td>David Kim Whittaker</td>\n",
       "      <td>1500</td>\n",
       "      <td>2000</td>\n",
       "      <td>3000</td>\n",
       "      <td>Jul</td>\n",
       "      <td>2019</td>\n",
       "      <td>Online</td>\n",
       "      <td>Online</td>\n",
       "    </tr>\n",
       "    <tr>\n",
       "      <th>1899</th>\n",
       "      <td>KAWS</td>\n",
       "      <td>2500</td>\n",
       "      <td>1000</td>\n",
       "      <td>2000</td>\n",
       "      <td>Jul</td>\n",
       "      <td>2019</td>\n",
       "      <td>Online</td>\n",
       "      <td>Online</td>\n",
       "    </tr>\n",
       "    <tr>\n",
       "      <th>1900</th>\n",
       "      <td>KAWS</td>\n",
       "      <td>2000</td>\n",
       "      <td>1000</td>\n",
       "      <td>1500</td>\n",
       "      <td>Jul</td>\n",
       "      <td>2019</td>\n",
       "      <td>Online</td>\n",
       "      <td>Online</td>\n",
       "    </tr>\n",
       "    <tr>\n",
       "      <th>1901</th>\n",
       "      <td>Mark Titchner</td>\n",
       "      <td>4000</td>\n",
       "      <td>2000</td>\n",
       "      <td>3000</td>\n",
       "      <td>Jul</td>\n",
       "      <td>2019</td>\n",
       "      <td>Online</td>\n",
       "      <td>Online</td>\n",
       "    </tr>\n",
       "  </tbody>\n",
       "</table>\n",
       "<p>130 rows × 8 columns</p>\n",
       "</div>"
      ],
      "text/plain": [
       "                   artist sale_price low_est high_est sale_month sale_year  \\\n",
       "1102    Christina Quarles       8125    6000     8000        Feb      2019   \n",
       "1103        Lily Stockman       6250    8000    12000        Feb      2019   \n",
       "1104            Dan Colen       2500    2000     3000        Feb      2019   \n",
       "1105         Peter Wegner       4375    6000     8000        Feb      2019   \n",
       "1106          Elad Lassry       4750    5000     7000        Feb      2019   \n",
       "...                   ...        ...     ...      ...        ...       ...   \n",
       "1897           Anne Hardy       1000    1000     1500        Jul      2019   \n",
       "1898  David Kim Whittaker       1500    2000     3000        Jul      2019   \n",
       "1899                 KAWS       2500    1000     2000        Jul      2019   \n",
       "1900                 KAWS       2000    1000     1500        Jul      2019   \n",
       "1901        Mark Titchner       4000    2000     3000        Jul      2019   \n",
       "\n",
       "     sale_location currency  \n",
       "1102        Online   Online  \n",
       "1103        Online   Online  \n",
       "1104        Online   Online  \n",
       "1105        Online   Online  \n",
       "1106        Online   Online  \n",
       "...            ...      ...  \n",
       "1897        Online   Online  \n",
       "1898        Online   Online  \n",
       "1899        Online   Online  \n",
       "1900        Online   Online  \n",
       "1901        Online   Online  \n",
       "\n",
       "[130 rows x 8 columns]"
      ]
     },
     "execution_count": 421,
     "metadata": {},
     "output_type": "execute_result"
    }
   ],
   "source": [
    "data[data['sale_location'] == 'Online']"
   ]
  },
  {
   "cell_type": "code",
   "execution_count": 422,
   "metadata": {},
   "outputs": [],
   "source": [
    "online_data = data[data['sale_location'] == 'Online']\n",
    "location_data = data[data['sale_location'] != 'Online']"
   ]
  },
  {
   "cell_type": "code",
   "execution_count": 423,
   "metadata": {},
   "outputs": [],
   "source": [
    "online_df = df[df['sale_location'] == 'Online']"
   ]
  },
  {
   "cell_type": "code",
   "execution_count": 424,
   "metadata": {},
   "outputs": [],
   "source": [
    "online_currency = []\n",
    "\n",
    "df_estimates = online_df['estimates'].tolist()\n",
    "\n",
    "for est in df_estimates:\n",
    "    if '$' in est:\n",
    "        online_currency.append('USD')\n",
    "    elif '£' in est:\n",
    "        online_currency.append('GBP')\n",
    "    elif 'HK$' in est:\n",
    "        online_currency.append('HKD')\n",
    "    else:\n",
    "        online_currency.append(np.nan)"
   ]
  },
  {
   "cell_type": "code",
   "execution_count": 425,
   "metadata": {},
   "outputs": [
    {
     "name": "stderr",
     "output_type": "stream",
     "text": [
      "C:\\Users\\Andrew\\anaconda3\\lib\\site-packages\\ipykernel_launcher.py:1: SettingWithCopyWarning: \n",
      "A value is trying to be set on a copy of a slice from a DataFrame.\n",
      "Try using .loc[row_indexer,col_indexer] = value instead\n",
      "\n",
      "See the caveats in the documentation: https://pandas.pydata.org/pandas-docs/stable/user_guide/indexing.html#returning-a-view-versus-a-copy\n",
      "  \"\"\"Entry point for launching an IPython kernel.\n"
     ]
    },
    {
     "data": {
      "text/plain": [
       "USD    68\n",
       "GBP    62\n",
       "Name: currency, dtype: int64"
      ]
     },
     "execution_count": 425,
     "metadata": {},
     "output_type": "execute_result"
    }
   ],
   "source": [
    "online_df['currency'] = online_currency\n",
    "online_df['currency'].value_counts()"
   ]
  },
  {
   "cell_type": "code",
   "execution_count": 426,
   "metadata": {},
   "outputs": [
    {
     "name": "stderr",
     "output_type": "stream",
     "text": [
      "C:\\Users\\Andrew\\anaconda3\\lib\\site-packages\\ipykernel_launcher.py:1: SettingWithCopyWarning: \n",
      "A value is trying to be set on a copy of a slice from a DataFrame.\n",
      "Try using .loc[row_indexer,col_indexer] = value instead\n",
      "\n",
      "See the caveats in the documentation: https://pandas.pydata.org/pandas-docs/stable/user_guide/indexing.html#returning-a-view-versus-a-copy\n",
      "  \"\"\"Entry point for launching an IPython kernel.\n"
     ]
    },
    {
     "data": {
      "text/html": [
       "<div>\n",
       "<style scoped>\n",
       "    .dataframe tbody tr th:only-of-type {\n",
       "        vertical-align: middle;\n",
       "    }\n",
       "\n",
       "    .dataframe tbody tr th {\n",
       "        vertical-align: top;\n",
       "    }\n",
       "\n",
       "    .dataframe thead th {\n",
       "        text-align: right;\n",
       "    }\n",
       "</style>\n",
       "<table border=\"1\" class=\"dataframe\">\n",
       "  <thead>\n",
       "    <tr style=\"text-align: right;\">\n",
       "      <th></th>\n",
       "      <th>artist</th>\n",
       "      <th>sale_price</th>\n",
       "      <th>low_est</th>\n",
       "      <th>high_est</th>\n",
       "      <th>sale_month</th>\n",
       "      <th>sale_year</th>\n",
       "      <th>sale_location</th>\n",
       "      <th>currency</th>\n",
       "    </tr>\n",
       "  </thead>\n",
       "  <tbody>\n",
       "    <tr>\n",
       "      <th>1102</th>\n",
       "      <td>Christina Quarles</td>\n",
       "      <td>8125</td>\n",
       "      <td>6000</td>\n",
       "      <td>8000</td>\n",
       "      <td>Feb</td>\n",
       "      <td>2019</td>\n",
       "      <td>Online</td>\n",
       "      <td>USD</td>\n",
       "    </tr>\n",
       "    <tr>\n",
       "      <th>1103</th>\n",
       "      <td>Lily Stockman</td>\n",
       "      <td>6250</td>\n",
       "      <td>8000</td>\n",
       "      <td>12000</td>\n",
       "      <td>Feb</td>\n",
       "      <td>2019</td>\n",
       "      <td>Online</td>\n",
       "      <td>USD</td>\n",
       "    </tr>\n",
       "    <tr>\n",
       "      <th>1104</th>\n",
       "      <td>Dan Colen</td>\n",
       "      <td>2500</td>\n",
       "      <td>2000</td>\n",
       "      <td>3000</td>\n",
       "      <td>Feb</td>\n",
       "      <td>2019</td>\n",
       "      <td>Online</td>\n",
       "      <td>USD</td>\n",
       "    </tr>\n",
       "    <tr>\n",
       "      <th>1105</th>\n",
       "      <td>Peter Wegner</td>\n",
       "      <td>4375</td>\n",
       "      <td>6000</td>\n",
       "      <td>8000</td>\n",
       "      <td>Feb</td>\n",
       "      <td>2019</td>\n",
       "      <td>Online</td>\n",
       "      <td>USD</td>\n",
       "    </tr>\n",
       "    <tr>\n",
       "      <th>1106</th>\n",
       "      <td>Elad Lassry</td>\n",
       "      <td>4750</td>\n",
       "      <td>5000</td>\n",
       "      <td>7000</td>\n",
       "      <td>Feb</td>\n",
       "      <td>2019</td>\n",
       "      <td>Online</td>\n",
       "      <td>USD</td>\n",
       "    </tr>\n",
       "    <tr>\n",
       "      <th>...</th>\n",
       "      <td>...</td>\n",
       "      <td>...</td>\n",
       "      <td>...</td>\n",
       "      <td>...</td>\n",
       "      <td>...</td>\n",
       "      <td>...</td>\n",
       "      <td>...</td>\n",
       "      <td>...</td>\n",
       "    </tr>\n",
       "    <tr>\n",
       "      <th>1897</th>\n",
       "      <td>Anne Hardy</td>\n",
       "      <td>1000</td>\n",
       "      <td>1000</td>\n",
       "      <td>1500</td>\n",
       "      <td>Jul</td>\n",
       "      <td>2019</td>\n",
       "      <td>Online</td>\n",
       "      <td>GBP</td>\n",
       "    </tr>\n",
       "    <tr>\n",
       "      <th>1898</th>\n",
       "      <td>David Kim Whittaker</td>\n",
       "      <td>1500</td>\n",
       "      <td>2000</td>\n",
       "      <td>3000</td>\n",
       "      <td>Jul</td>\n",
       "      <td>2019</td>\n",
       "      <td>Online</td>\n",
       "      <td>GBP</td>\n",
       "    </tr>\n",
       "    <tr>\n",
       "      <th>1899</th>\n",
       "      <td>KAWS</td>\n",
       "      <td>2500</td>\n",
       "      <td>1000</td>\n",
       "      <td>2000</td>\n",
       "      <td>Jul</td>\n",
       "      <td>2019</td>\n",
       "      <td>Online</td>\n",
       "      <td>GBP</td>\n",
       "    </tr>\n",
       "    <tr>\n",
       "      <th>1900</th>\n",
       "      <td>KAWS</td>\n",
       "      <td>2000</td>\n",
       "      <td>1000</td>\n",
       "      <td>1500</td>\n",
       "      <td>Jul</td>\n",
       "      <td>2019</td>\n",
       "      <td>Online</td>\n",
       "      <td>GBP</td>\n",
       "    </tr>\n",
       "    <tr>\n",
       "      <th>1901</th>\n",
       "      <td>Mark Titchner</td>\n",
       "      <td>4000</td>\n",
       "      <td>2000</td>\n",
       "      <td>3000</td>\n",
       "      <td>Jul</td>\n",
       "      <td>2019</td>\n",
       "      <td>Online</td>\n",
       "      <td>GBP</td>\n",
       "    </tr>\n",
       "  </tbody>\n",
       "</table>\n",
       "<p>130 rows × 8 columns</p>\n",
       "</div>"
      ],
      "text/plain": [
       "                   artist sale_price low_est high_est sale_month sale_year  \\\n",
       "1102    Christina Quarles       8125    6000     8000        Feb      2019   \n",
       "1103        Lily Stockman       6250    8000    12000        Feb      2019   \n",
       "1104            Dan Colen       2500    2000     3000        Feb      2019   \n",
       "1105         Peter Wegner       4375    6000     8000        Feb      2019   \n",
       "1106          Elad Lassry       4750    5000     7000        Feb      2019   \n",
       "...                   ...        ...     ...      ...        ...       ...   \n",
       "1897           Anne Hardy       1000    1000     1500        Jul      2019   \n",
       "1898  David Kim Whittaker       1500    2000     3000        Jul      2019   \n",
       "1899                 KAWS       2500    1000     2000        Jul      2019   \n",
       "1900                 KAWS       2000    1000     1500        Jul      2019   \n",
       "1901        Mark Titchner       4000    2000     3000        Jul      2019   \n",
       "\n",
       "     sale_location currency  \n",
       "1102        Online      USD  \n",
       "1103        Online      USD  \n",
       "1104        Online      USD  \n",
       "1105        Online      USD  \n",
       "1106        Online      USD  \n",
       "...            ...      ...  \n",
       "1897        Online      GBP  \n",
       "1898        Online      GBP  \n",
       "1899        Online      GBP  \n",
       "1900        Online      GBP  \n",
       "1901        Online      GBP  \n",
       "\n",
       "[130 rows x 8 columns]"
      ]
     },
     "execution_count": 426,
     "metadata": {},
     "output_type": "execute_result"
    }
   ],
   "source": [
    "online_data['currency'] = online_currency\n",
    "online_data"
   ]
  },
  {
   "cell_type": "code",
   "execution_count": null,
   "metadata": {},
   "outputs": [],
   "source": []
  },
  {
   "cell_type": "code",
   "execution_count": 454,
   "metadata": {},
   "outputs": [
    {
     "data": {
      "text/html": [
       "<div>\n",
       "<style scoped>\n",
       "    .dataframe tbody tr th:only-of-type {\n",
       "        vertical-align: middle;\n",
       "    }\n",
       "\n",
       "    .dataframe tbody tr th {\n",
       "        vertical-align: top;\n",
       "    }\n",
       "\n",
       "    .dataframe thead th {\n",
       "        text-align: right;\n",
       "    }\n",
       "</style>\n",
       "<table border=\"1\" class=\"dataframe\">\n",
       "  <thead>\n",
       "    <tr style=\"text-align: right;\">\n",
       "      <th></th>\n",
       "      <th>artist</th>\n",
       "      <th>sale_price</th>\n",
       "      <th>low_est</th>\n",
       "      <th>high_est</th>\n",
       "      <th>sale_month</th>\n",
       "      <th>sale_year</th>\n",
       "      <th>sale_location</th>\n",
       "      <th>currency</th>\n",
       "    </tr>\n",
       "  </thead>\n",
       "  <tbody>\n",
       "    <tr>\n",
       "      <th>0</th>\n",
       "      <td>Anselm Reyle</td>\n",
       "      <td>31200</td>\n",
       "      <td>25000</td>\n",
       "      <td>35000</td>\n",
       "      <td>Oct</td>\n",
       "      <td>2006</td>\n",
       "      <td>London</td>\n",
       "      <td>GBP</td>\n",
       "    </tr>\n",
       "    <tr>\n",
       "      <th>1</th>\n",
       "      <td>Paul Pfeiffer</td>\n",
       "      <td>16800</td>\n",
       "      <td>15000</td>\n",
       "      <td>20000</td>\n",
       "      <td>Oct</td>\n",
       "      <td>2006</td>\n",
       "      <td>London</td>\n",
       "      <td>GBP</td>\n",
       "    </tr>\n",
       "    <tr>\n",
       "      <th>2</th>\n",
       "      <td>Tom Friedman</td>\n",
       "      <td>34800</td>\n",
       "      <td>30000</td>\n",
       "      <td>40000</td>\n",
       "      <td>Oct</td>\n",
       "      <td>2006</td>\n",
       "      <td>London</td>\n",
       "      <td>GBP</td>\n",
       "    </tr>\n",
       "    <tr>\n",
       "      <th>3</th>\n",
       "      <td>Johannes Kahrs</td>\n",
       "      <td>78000</td>\n",
       "      <td>30000</td>\n",
       "      <td>40000</td>\n",
       "      <td>Oct</td>\n",
       "      <td>2006</td>\n",
       "      <td>London</td>\n",
       "      <td>GBP</td>\n",
       "    </tr>\n",
       "    <tr>\n",
       "      <th>4</th>\n",
       "      <td>Ronan and Erwan Bouroullec</td>\n",
       "      <td>18000</td>\n",
       "      <td>10000</td>\n",
       "      <td>15000</td>\n",
       "      <td>Oct</td>\n",
       "      <td>2006</td>\n",
       "      <td>London</td>\n",
       "      <td>GBP</td>\n",
       "    </tr>\n",
       "  </tbody>\n",
       "</table>\n",
       "</div>"
      ],
      "text/plain": [
       "                       artist sale_price low_est high_est sale_month  \\\n",
       "0                Anselm Reyle      31200   25000    35000        Oct   \n",
       "1               Paul Pfeiffer      16800   15000    20000        Oct   \n",
       "2                Tom Friedman      34800   30000    40000        Oct   \n",
       "3              Johannes Kahrs      78000   30000    40000        Oct   \n",
       "4  Ronan and Erwan Bouroullec      18000   10000    15000        Oct   \n",
       "\n",
       "  sale_year sale_location currency  \n",
       "0      2006        London      GBP  \n",
       "1      2006        London      GBP  \n",
       "2      2006        London      GBP  \n",
       "3      2006        London      GBP  \n",
       "4      2006        London      GBP  "
      ]
     },
     "execution_count": 454,
     "metadata": {},
     "output_type": "execute_result"
    }
   ],
   "source": [
    "clean_data = pd.concat([location_data, online_data])\n",
    "clean_data.head()"
   ]
  },
  {
   "cell_type": "code",
   "execution_count": 455,
   "metadata": {},
   "outputs": [
    {
     "data": {
      "text/plain": [
       "(4544, 8)"
      ]
     },
     "execution_count": 455,
     "metadata": {},
     "output_type": "execute_result"
    }
   ],
   "source": [
    "clean_data.shape"
   ]
  },
  {
   "cell_type": "code",
   "execution_count": null,
   "metadata": {},
   "outputs": [],
   "source": []
  },
  {
   "cell_type": "code",
   "execution_count": 456,
   "metadata": {},
   "outputs": [],
   "source": [
    "def month_string_to_number(string):\n",
    "    m = {\n",
    "        'jan': 1,\n",
    "        'feb': 2,\n",
    "        'mar': 3,\n",
    "        'apr':4,\n",
    "         'may':5,\n",
    "         'jun':6,\n",
    "         'jul':7,\n",
    "         'aug':8,\n",
    "         'sep':9,\n",
    "         'oct':10,\n",
    "         'nov':11,\n",
    "         'dec':12\n",
    "        }\n",
    "    s = string.strip()[:3].lower()\n",
    "\n",
    "    try:\n",
    "        out = m[s]\n",
    "        return out\n",
    "    except:\n",
    "        raise ValueError('Not a month')"
   ]
  },
  {
   "cell_type": "code",
   "execution_count": 457,
   "metadata": {},
   "outputs": [
    {
     "data": {
      "text/html": [
       "<div>\n",
       "<style scoped>\n",
       "    .dataframe tbody tr th:only-of-type {\n",
       "        vertical-align: middle;\n",
       "    }\n",
       "\n",
       "    .dataframe tbody tr th {\n",
       "        vertical-align: top;\n",
       "    }\n",
       "\n",
       "    .dataframe thead th {\n",
       "        text-align: right;\n",
       "    }\n",
       "</style>\n",
       "<table border=\"1\" class=\"dataframe\">\n",
       "  <thead>\n",
       "    <tr style=\"text-align: right;\">\n",
       "      <th></th>\n",
       "      <th>artist</th>\n",
       "      <th>sale_price</th>\n",
       "      <th>low_est</th>\n",
       "      <th>high_est</th>\n",
       "      <th>sale_month</th>\n",
       "      <th>sale_year</th>\n",
       "      <th>sale_location</th>\n",
       "      <th>currency</th>\n",
       "      <th>sale_month_num</th>\n",
       "    </tr>\n",
       "  </thead>\n",
       "  <tbody>\n",
       "    <tr>\n",
       "      <th>0</th>\n",
       "      <td>Anselm Reyle</td>\n",
       "      <td>31200</td>\n",
       "      <td>25000</td>\n",
       "      <td>35000</td>\n",
       "      <td>Oct</td>\n",
       "      <td>2006</td>\n",
       "      <td>London</td>\n",
       "      <td>GBP</td>\n",
       "      <td>10</td>\n",
       "    </tr>\n",
       "    <tr>\n",
       "      <th>1</th>\n",
       "      <td>Paul Pfeiffer</td>\n",
       "      <td>16800</td>\n",
       "      <td>15000</td>\n",
       "      <td>20000</td>\n",
       "      <td>Oct</td>\n",
       "      <td>2006</td>\n",
       "      <td>London</td>\n",
       "      <td>GBP</td>\n",
       "      <td>10</td>\n",
       "    </tr>\n",
       "    <tr>\n",
       "      <th>2</th>\n",
       "      <td>Tom Friedman</td>\n",
       "      <td>34800</td>\n",
       "      <td>30000</td>\n",
       "      <td>40000</td>\n",
       "      <td>Oct</td>\n",
       "      <td>2006</td>\n",
       "      <td>London</td>\n",
       "      <td>GBP</td>\n",
       "      <td>10</td>\n",
       "    </tr>\n",
       "    <tr>\n",
       "      <th>3</th>\n",
       "      <td>Johannes Kahrs</td>\n",
       "      <td>78000</td>\n",
       "      <td>30000</td>\n",
       "      <td>40000</td>\n",
       "      <td>Oct</td>\n",
       "      <td>2006</td>\n",
       "      <td>London</td>\n",
       "      <td>GBP</td>\n",
       "      <td>10</td>\n",
       "    </tr>\n",
       "    <tr>\n",
       "      <th>4</th>\n",
       "      <td>Ronan and Erwan Bouroullec</td>\n",
       "      <td>18000</td>\n",
       "      <td>10000</td>\n",
       "      <td>15000</td>\n",
       "      <td>Oct</td>\n",
       "      <td>2006</td>\n",
       "      <td>London</td>\n",
       "      <td>GBP</td>\n",
       "      <td>10</td>\n",
       "    </tr>\n",
       "  </tbody>\n",
       "</table>\n",
       "</div>"
      ],
      "text/plain": [
       "                       artist sale_price low_est high_est sale_month  \\\n",
       "0                Anselm Reyle      31200   25000    35000        Oct   \n",
       "1               Paul Pfeiffer      16800   15000    20000        Oct   \n",
       "2                Tom Friedman      34800   30000    40000        Oct   \n",
       "3              Johannes Kahrs      78000   30000    40000        Oct   \n",
       "4  Ronan and Erwan Bouroullec      18000   10000    15000        Oct   \n",
       "\n",
       "  sale_year sale_location currency  sale_month_num  \n",
       "0      2006        London      GBP              10  \n",
       "1      2006        London      GBP              10  \n",
       "2      2006        London      GBP              10  \n",
       "3      2006        London      GBP              10  \n",
       "4      2006        London      GBP              10  "
      ]
     },
     "execution_count": 457,
     "metadata": {},
     "output_type": "execute_result"
    }
   ],
   "source": [
    "clean_data['sale_month_num'] = clean_data['sale_month'].apply(lambda x: month_string_to_number(x))\n",
    "clean_data.head()"
   ]
  },
  {
   "cell_type": "code",
   "execution_count": null,
   "metadata": {},
   "outputs": [],
   "source": []
  },
  {
   "cell_type": "markdown",
   "metadata": {},
   "source": [
    "# Get Currency conversion rates and conver sale_price, low_est, and high_est to USD"
   ]
  },
  {
   "cell_type": "code",
   "execution_count": 461,
   "metadata": {},
   "outputs": [
    {
     "data": {
      "text/plain": [
       "(31200, 2006, 10, 'GBP')"
      ]
     },
     "execution_count": 461,
     "metadata": {},
     "output_type": "execute_result"
    }
   ],
   "source": [
    "sale = int(clean_data['sale_price'][0])\n",
    "year = int(clean_data['sale_year'][0])\n",
    "month = int(clean_data['sale_month_num'][0])\n",
    "curr = clean_data['currency'][0]\n",
    "\n",
    "sale, year, month, curr"
   ]
  },
  {
   "cell_type": "code",
   "execution_count": 462,
   "metadata": {},
   "outputs": [],
   "source": [
    "t = datetime(year, month, 1)"
   ]
  },
  {
   "cell_type": "code",
   "execution_count": 463,
   "metadata": {},
   "outputs": [
    {
     "data": {
      "text/plain": [
       "1.8680832227"
      ]
     },
     "execution_count": 463,
     "metadata": {},
     "output_type": "execute_result"
    }
   ],
   "source": [
    "c.get_rate(curr, 'USD', t)"
   ]
  },
  {
   "cell_type": "code",
   "execution_count": 474,
   "metadata": {},
   "outputs": [
    {
     "data": {
      "text/plain": [
       "58284.19654824"
      ]
     },
     "execution_count": 474,
     "metadata": {},
     "output_type": "execute_result"
    }
   ],
   "source": [
    "c.convert(curr, 'USD', int(sale), t)"
   ]
  },
  {
   "cell_type": "code",
   "execution_count": null,
   "metadata": {},
   "outputs": [],
   "source": []
  },
  {
   "cell_type": "code",
   "execution_count": 483,
   "metadata": {},
   "outputs": [
    {
     "data": {
      "text/plain": [
       "(4544, 4544, 4544)"
      ]
     },
     "execution_count": 483,
     "metadata": {},
     "output_type": "execute_result"
    }
   ],
   "source": [
    "convert_sale = []\n",
    "convert_low = []\n",
    "convert_high = []\n",
    "\n",
    "for i in range(len(clean_data)):\n",
    "    # get row data\n",
    "    temp = clean_data.loc[i].tolist()\n",
    "    # set sale price, low est, high est, currency, and datetime object\n",
    "    sale = int(temp[1])\n",
    "    low_est = int(temp[2])\n",
    "    high_est = int(temp[3])\n",
    "    curr = temp[-2]\n",
    "    t = datetime(int(temp[5]), temp[-1], 1)\n",
    "    \n",
    "    # append converted value to list\n",
    "    convert_sale.append(c.convert(curr, 'USD', sale, t))\n",
    "    convert_low.append(c.convert(curr, 'USD', low_est, t))\n",
    "    convert_high.append(c.convert(curr, 'USD', high_est, t))\n",
    "    \n",
    "len(convert_sale), len(convert_low), len(convert_high)"
   ]
  },
  {
   "cell_type": "code",
   "execution_count": 485,
   "metadata": {},
   "outputs": [
    {
     "data": {
      "text/html": [
       "<div>\n",
       "<style scoped>\n",
       "    .dataframe tbody tr th:only-of-type {\n",
       "        vertical-align: middle;\n",
       "    }\n",
       "\n",
       "    .dataframe tbody tr th {\n",
       "        vertical-align: top;\n",
       "    }\n",
       "\n",
       "    .dataframe thead th {\n",
       "        text-align: right;\n",
       "    }\n",
       "</style>\n",
       "<table border=\"1\" class=\"dataframe\">\n",
       "  <thead>\n",
       "    <tr style=\"text-align: right;\">\n",
       "      <th></th>\n",
       "      <th>artist</th>\n",
       "      <th>sale_price</th>\n",
       "      <th>low_est</th>\n",
       "      <th>high_est</th>\n",
       "      <th>sale_month</th>\n",
       "      <th>sale_year</th>\n",
       "      <th>sale_location</th>\n",
       "      <th>currency</th>\n",
       "      <th>sale_month_num</th>\n",
       "      <th>converted_sale</th>\n",
       "      <th>converted_low_est</th>\n",
       "      <th>converted_high_est</th>\n",
       "    </tr>\n",
       "  </thead>\n",
       "  <tbody>\n",
       "    <tr>\n",
       "      <th>0</th>\n",
       "      <td>Anselm Reyle</td>\n",
       "      <td>31200</td>\n",
       "      <td>25000</td>\n",
       "      <td>35000</td>\n",
       "      <td>Oct</td>\n",
       "      <td>2006</td>\n",
       "      <td>London</td>\n",
       "      <td>GBP</td>\n",
       "      <td>10</td>\n",
       "      <td>58284.196548</td>\n",
       "      <td>46702.080568</td>\n",
       "      <td>65382.912795</td>\n",
       "    </tr>\n",
       "    <tr>\n",
       "      <th>1</th>\n",
       "      <td>Paul Pfeiffer</td>\n",
       "      <td>16800</td>\n",
       "      <td>15000</td>\n",
       "      <td>20000</td>\n",
       "      <td>Oct</td>\n",
       "      <td>2006</td>\n",
       "      <td>London</td>\n",
       "      <td>GBP</td>\n",
       "      <td>10</td>\n",
       "      <td>31383.798141</td>\n",
       "      <td>28021.248340</td>\n",
       "      <td>37361.664454</td>\n",
       "    </tr>\n",
       "    <tr>\n",
       "      <th>2</th>\n",
       "      <td>Tom Friedman</td>\n",
       "      <td>34800</td>\n",
       "      <td>30000</td>\n",
       "      <td>40000</td>\n",
       "      <td>Oct</td>\n",
       "      <td>2006</td>\n",
       "      <td>London</td>\n",
       "      <td>GBP</td>\n",
       "      <td>10</td>\n",
       "      <td>65009.296150</td>\n",
       "      <td>56042.496681</td>\n",
       "      <td>74723.328908</td>\n",
       "    </tr>\n",
       "    <tr>\n",
       "      <th>3</th>\n",
       "      <td>Johannes Kahrs</td>\n",
       "      <td>78000</td>\n",
       "      <td>30000</td>\n",
       "      <td>40000</td>\n",
       "      <td>Oct</td>\n",
       "      <td>2006</td>\n",
       "      <td>London</td>\n",
       "      <td>GBP</td>\n",
       "      <td>10</td>\n",
       "      <td>145710.491371</td>\n",
       "      <td>56042.496681</td>\n",
       "      <td>74723.328908</td>\n",
       "    </tr>\n",
       "    <tr>\n",
       "      <th>4</th>\n",
       "      <td>Ronan and Erwan Bouroullec</td>\n",
       "      <td>18000</td>\n",
       "      <td>10000</td>\n",
       "      <td>15000</td>\n",
       "      <td>Oct</td>\n",
       "      <td>2006</td>\n",
       "      <td>London</td>\n",
       "      <td>GBP</td>\n",
       "      <td>10</td>\n",
       "      <td>33625.498009</td>\n",
       "      <td>18680.832227</td>\n",
       "      <td>28021.248340</td>\n",
       "    </tr>\n",
       "  </tbody>\n",
       "</table>\n",
       "</div>"
      ],
      "text/plain": [
       "                       artist sale_price low_est high_est sale_month  \\\n",
       "0                Anselm Reyle      31200   25000    35000        Oct   \n",
       "1               Paul Pfeiffer      16800   15000    20000        Oct   \n",
       "2                Tom Friedman      34800   30000    40000        Oct   \n",
       "3              Johannes Kahrs      78000   30000    40000        Oct   \n",
       "4  Ronan and Erwan Bouroullec      18000   10000    15000        Oct   \n",
       "\n",
       "  sale_year sale_location currency  sale_month_num  converted_sale  \\\n",
       "0      2006        London      GBP              10    58284.196548   \n",
       "1      2006        London      GBP              10    31383.798141   \n",
       "2      2006        London      GBP              10    65009.296150   \n",
       "3      2006        London      GBP              10   145710.491371   \n",
       "4      2006        London      GBP              10    33625.498009   \n",
       "\n",
       "   converted_low_est  converted_high_est  \n",
       "0       46702.080568        65382.912795  \n",
       "1       28021.248340        37361.664454  \n",
       "2       56042.496681        74723.328908  \n",
       "3       56042.496681        74723.328908  \n",
       "4       18680.832227        28021.248340  "
      ]
     },
     "execution_count": 485,
     "metadata": {},
     "output_type": "execute_result"
    }
   ],
   "source": [
    "clean_data['converted_sale'] = convert_sale\n",
    "clean_data['converted_low_est'] = convert_low\n",
    "clean_data['converted_high_est'] = convert_high\n",
    "\n",
    "clean_data.head()"
   ]
  },
  {
   "cell_type": "code",
   "execution_count": 487,
   "metadata": {},
   "outputs": [
    {
     "data": {
      "text/html": [
       "<div>\n",
       "<style scoped>\n",
       "    .dataframe tbody tr th:only-of-type {\n",
       "        vertical-align: middle;\n",
       "    }\n",
       "\n",
       "    .dataframe tbody tr th {\n",
       "        vertical-align: top;\n",
       "    }\n",
       "\n",
       "    .dataframe thead th {\n",
       "        text-align: right;\n",
       "    }\n",
       "</style>\n",
       "<table border=\"1\" class=\"dataframe\">\n",
       "  <thead>\n",
       "    <tr style=\"text-align: right;\">\n",
       "      <th></th>\n",
       "      <th>sale_price</th>\n",
       "      <th>currency</th>\n",
       "      <th>converted_sale</th>\n",
       "    </tr>\n",
       "  </thead>\n",
       "  <tbody>\n",
       "    <tr>\n",
       "      <th>264</th>\n",
       "      <td>137000</td>\n",
       "      <td>USD</td>\n",
       "      <td>137000.000000</td>\n",
       "    </tr>\n",
       "    <tr>\n",
       "      <th>265</th>\n",
       "      <td>68750</td>\n",
       "      <td>USD</td>\n",
       "      <td>68750.000000</td>\n",
       "    </tr>\n",
       "    <tr>\n",
       "      <th>266</th>\n",
       "      <td>137000</td>\n",
       "      <td>USD</td>\n",
       "      <td>137000.000000</td>\n",
       "    </tr>\n",
       "    <tr>\n",
       "      <th>267</th>\n",
       "      <td>0</td>\n",
       "      <td>USD</td>\n",
       "      <td>0.000000</td>\n",
       "    </tr>\n",
       "    <tr>\n",
       "      <th>268</th>\n",
       "      <td>665000</td>\n",
       "      <td>USD</td>\n",
       "      <td>665000.000000</td>\n",
       "    </tr>\n",
       "    <tr>\n",
       "      <th>...</th>\n",
       "      <td>...</td>\n",
       "      <td>...</td>\n",
       "      <td>...</td>\n",
       "    </tr>\n",
       "    <tr>\n",
       "      <th>4130</th>\n",
       "      <td>0</td>\n",
       "      <td>USD</td>\n",
       "      <td>0.000000</td>\n",
       "    </tr>\n",
       "    <tr>\n",
       "      <th>4131</th>\n",
       "      <td>206500</td>\n",
       "      <td>USD</td>\n",
       "      <td>261104.453438</td>\n",
       "    </tr>\n",
       "    <tr>\n",
       "      <th>4132</th>\n",
       "      <td>92500</td>\n",
       "      <td>USD</td>\n",
       "      <td>189894.147955</td>\n",
       "    </tr>\n",
       "    <tr>\n",
       "      <th>4133</th>\n",
       "      <td>182500</td>\n",
       "      <td>USD</td>\n",
       "      <td>113936.488773</td>\n",
       "    </tr>\n",
       "    <tr>\n",
       "      <th>4134</th>\n",
       "      <td>482500</td>\n",
       "      <td>USD</td>\n",
       "      <td>748499.433190</td>\n",
       "    </tr>\n",
       "  </tbody>\n",
       "</table>\n",
       "<p>1443 rows × 3 columns</p>\n",
       "</div>"
      ],
      "text/plain": [
       "     sale_price currency  converted_sale\n",
       "264      137000      USD   137000.000000\n",
       "265       68750      USD    68750.000000\n",
       "266      137000      USD   137000.000000\n",
       "267           0      USD        0.000000\n",
       "268      665000      USD   665000.000000\n",
       "...         ...      ...             ...\n",
       "4130          0      USD        0.000000\n",
       "4131     206500      USD   261104.453438\n",
       "4132      92500      USD   189894.147955\n",
       "4133     182500      USD   113936.488773\n",
       "4134     482500      USD   748499.433190\n",
       "\n",
       "[1443 rows x 3 columns]"
      ]
     },
     "execution_count": 487,
     "metadata": {},
     "output_type": "execute_result"
    }
   ],
   "source": [
    "clean_data[['sale_price', 'currency', 'converted_sale']][clean_data['sale_location']=='New York']"
   ]
  },
  {
   "cell_type": "code",
   "execution_count": 492,
   "metadata": {},
   "outputs": [],
   "source": [
    "clean_data['converted_sale'] = np.where(clean_data['currency'] == 'USD', clean_data['sale_price'], clean_data['converted_sale'])\n",
    "clean_data['converted_low_est'] = np.where(clean_data['currency'] == 'USD', clean_data['low_est'], clean_data['converted_low_est'])\n",
    "clean_data['converted_high_est'] = np.where(clean_data['currency'] == 'USD', clean_data['high_est'], clean_data['converted_high_est'])"
   ]
  },
  {
   "cell_type": "code",
   "execution_count": 494,
   "metadata": {},
   "outputs": [
    {
     "data": {
      "text/html": [
       "<div>\n",
       "<style scoped>\n",
       "    .dataframe tbody tr th:only-of-type {\n",
       "        vertical-align: middle;\n",
       "    }\n",
       "\n",
       "    .dataframe tbody tr th {\n",
       "        vertical-align: top;\n",
       "    }\n",
       "\n",
       "    .dataframe thead th {\n",
       "        text-align: right;\n",
       "    }\n",
       "</style>\n",
       "<table border=\"1\" class=\"dataframe\">\n",
       "  <thead>\n",
       "    <tr style=\"text-align: right;\">\n",
       "      <th></th>\n",
       "      <th>sale_price</th>\n",
       "      <th>currency</th>\n",
       "      <th>converted_sale</th>\n",
       "      <th>sale_year</th>\n",
       "    </tr>\n",
       "  </thead>\n",
       "  <tbody>\n",
       "    <tr>\n",
       "      <th>264</th>\n",
       "      <td>137000</td>\n",
       "      <td>USD</td>\n",
       "      <td>137000</td>\n",
       "      <td>2015</td>\n",
       "    </tr>\n",
       "    <tr>\n",
       "      <th>265</th>\n",
       "      <td>68750</td>\n",
       "      <td>USD</td>\n",
       "      <td>68750</td>\n",
       "      <td>2015</td>\n",
       "    </tr>\n",
       "    <tr>\n",
       "      <th>266</th>\n",
       "      <td>137000</td>\n",
       "      <td>USD</td>\n",
       "      <td>137000</td>\n",
       "      <td>2015</td>\n",
       "    </tr>\n",
       "    <tr>\n",
       "      <th>267</th>\n",
       "      <td>0</td>\n",
       "      <td>USD</td>\n",
       "      <td>0</td>\n",
       "      <td>2015</td>\n",
       "    </tr>\n",
       "    <tr>\n",
       "      <th>268</th>\n",
       "      <td>665000</td>\n",
       "      <td>USD</td>\n",
       "      <td>665000</td>\n",
       "      <td>2015</td>\n",
       "    </tr>\n",
       "    <tr>\n",
       "      <th>...</th>\n",
       "      <td>...</td>\n",
       "      <td>...</td>\n",
       "      <td>...</td>\n",
       "      <td>...</td>\n",
       "    </tr>\n",
       "    <tr>\n",
       "      <th>4130</th>\n",
       "      <td>0</td>\n",
       "      <td>USD</td>\n",
       "      <td>0</td>\n",
       "      <td>2012</td>\n",
       "    </tr>\n",
       "    <tr>\n",
       "      <th>4131</th>\n",
       "      <td>206500</td>\n",
       "      <td>USD</td>\n",
       "      <td>206500</td>\n",
       "      <td>2012</td>\n",
       "    </tr>\n",
       "    <tr>\n",
       "      <th>4132</th>\n",
       "      <td>92500</td>\n",
       "      <td>USD</td>\n",
       "      <td>92500</td>\n",
       "      <td>2012</td>\n",
       "    </tr>\n",
       "    <tr>\n",
       "      <th>4133</th>\n",
       "      <td>182500</td>\n",
       "      <td>USD</td>\n",
       "      <td>182500</td>\n",
       "      <td>2012</td>\n",
       "    </tr>\n",
       "    <tr>\n",
       "      <th>4134</th>\n",
       "      <td>482500</td>\n",
       "      <td>USD</td>\n",
       "      <td>482500</td>\n",
       "      <td>2012</td>\n",
       "    </tr>\n",
       "  </tbody>\n",
       "</table>\n",
       "<p>1443 rows × 4 columns</p>\n",
       "</div>"
      ],
      "text/plain": [
       "     sale_price currency converted_sale sale_year\n",
       "264      137000      USD         137000      2015\n",
       "265       68750      USD          68750      2015\n",
       "266      137000      USD         137000      2015\n",
       "267           0      USD              0      2015\n",
       "268      665000      USD         665000      2015\n",
       "...         ...      ...            ...       ...\n",
       "4130          0      USD              0      2012\n",
       "4131     206500      USD         206500      2012\n",
       "4132      92500      USD          92500      2012\n",
       "4133     182500      USD         182500      2012\n",
       "4134     482500      USD         482500      2012\n",
       "\n",
       "[1443 rows x 4 columns]"
      ]
     },
     "execution_count": 494,
     "metadata": {},
     "output_type": "execute_result"
    }
   ],
   "source": [
    "clean_data[['sale_price', 'currency', 'converted_sale', 'sale_year']][clean_data['sale_location']=='New York']"
   ]
  },
  {
   "cell_type": "code",
   "execution_count": null,
   "metadata": {},
   "outputs": [],
   "source": []
  },
  {
   "cell_type": "markdown",
   "metadata": {},
   "source": [
    "# use converted sales, low and high estimate to calculate inflation adjusted prices"
   ]
  },
  {
   "cell_type": "code",
   "execution_count": 500,
   "metadata": {},
   "outputs": [],
   "source": [
    "def inflation_adj(sale, year):\n",
    "    try:\n",
    "        return cpi.inflate(int(sale), int(year))\n",
    "    except:\n",
    "        return sale"
   ]
  },
  {
   "cell_type": "code",
   "execution_count": 503,
   "metadata": {},
   "outputs": [],
   "source": [
    "clean_data['sale_price_adj'] = clean_data.apply(lambda x: inflation_adj(x['converted_sale'], x['sale_year']), axis=1)\n",
    "clean_data['low_est_adj'] = clean_data.apply(lambda x: inflation_adj(x['converted_low_est'], x['sale_year']), axis=1)\n",
    "clean_data['high_est_adj'] = clean_data.apply(lambda x: inflation_adj(x['converted_high_est'], x['sale_year']), axis=1)"
   ]
  },
  {
   "cell_type": "code",
   "execution_count": 504,
   "metadata": {},
   "outputs": [
    {
     "data": {
      "text/html": [
       "<div>\n",
       "<style scoped>\n",
       "    .dataframe tbody tr th:only-of-type {\n",
       "        vertical-align: middle;\n",
       "    }\n",
       "\n",
       "    .dataframe tbody tr th {\n",
       "        vertical-align: top;\n",
       "    }\n",
       "\n",
       "    .dataframe thead th {\n",
       "        text-align: right;\n",
       "    }\n",
       "</style>\n",
       "<table border=\"1\" class=\"dataframe\">\n",
       "  <thead>\n",
       "    <tr style=\"text-align: right;\">\n",
       "      <th></th>\n",
       "      <th>artist</th>\n",
       "      <th>sale_price</th>\n",
       "      <th>low_est</th>\n",
       "      <th>high_est</th>\n",
       "      <th>sale_month</th>\n",
       "      <th>sale_year</th>\n",
       "      <th>sale_location</th>\n",
       "      <th>currency</th>\n",
       "      <th>sale_month_num</th>\n",
       "      <th>converted_sale</th>\n",
       "      <th>converted_low_est</th>\n",
       "      <th>converted_high_est</th>\n",
       "      <th>sale_price_adj</th>\n",
       "      <th>low_est_adj</th>\n",
       "      <th>high_est_adj</th>\n",
       "    </tr>\n",
       "  </thead>\n",
       "  <tbody>\n",
       "    <tr>\n",
       "      <th>0</th>\n",
       "      <td>Anselm Reyle</td>\n",
       "      <td>31200</td>\n",
       "      <td>25000</td>\n",
       "      <td>35000</td>\n",
       "      <td>Oct</td>\n",
       "      <td>2006</td>\n",
       "      <td>London</td>\n",
       "      <td>GBP</td>\n",
       "      <td>10</td>\n",
       "      <td>58284.2</td>\n",
       "      <td>46702.1</td>\n",
       "      <td>65382.9</td>\n",
       "      <td>73912.3</td>\n",
       "      <td>59224.7</td>\n",
       "      <td>82913.5</td>\n",
       "    </tr>\n",
       "    <tr>\n",
       "      <th>1</th>\n",
       "      <td>Paul Pfeiffer</td>\n",
       "      <td>16800</td>\n",
       "      <td>15000</td>\n",
       "      <td>20000</td>\n",
       "      <td>Oct</td>\n",
       "      <td>2006</td>\n",
       "      <td>London</td>\n",
       "      <td>GBP</td>\n",
       "      <td>10</td>\n",
       "      <td>31383.8</td>\n",
       "      <td>28021.2</td>\n",
       "      <td>37361.7</td>\n",
       "      <td>39798</td>\n",
       "      <td>35534.5</td>\n",
       "      <td>47379</td>\n",
       "    </tr>\n",
       "    <tr>\n",
       "      <th>2</th>\n",
       "      <td>Tom Friedman</td>\n",
       "      <td>34800</td>\n",
       "      <td>30000</td>\n",
       "      <td>40000</td>\n",
       "      <td>Oct</td>\n",
       "      <td>2006</td>\n",
       "      <td>London</td>\n",
       "      <td>GBP</td>\n",
       "      <td>10</td>\n",
       "      <td>65009.3</td>\n",
       "      <td>56042.5</td>\n",
       "      <td>74723.3</td>\n",
       "      <td>82440.5</td>\n",
       "      <td>71069.1</td>\n",
       "      <td>94759.2</td>\n",
       "    </tr>\n",
       "    <tr>\n",
       "      <th>3</th>\n",
       "      <td>Johannes Kahrs</td>\n",
       "      <td>78000</td>\n",
       "      <td>30000</td>\n",
       "      <td>40000</td>\n",
       "      <td>Oct</td>\n",
       "      <td>2006</td>\n",
       "      <td>London</td>\n",
       "      <td>GBP</td>\n",
       "      <td>10</td>\n",
       "      <td>145710</td>\n",
       "      <td>56042.5</td>\n",
       "      <td>74723.3</td>\n",
       "      <td>184781</td>\n",
       "      <td>71069.1</td>\n",
       "      <td>94759.2</td>\n",
       "    </tr>\n",
       "    <tr>\n",
       "      <th>4</th>\n",
       "      <td>Ronan and Erwan Bouroullec</td>\n",
       "      <td>18000</td>\n",
       "      <td>10000</td>\n",
       "      <td>15000</td>\n",
       "      <td>Oct</td>\n",
       "      <td>2006</td>\n",
       "      <td>London</td>\n",
       "      <td>GBP</td>\n",
       "      <td>10</td>\n",
       "      <td>33625.5</td>\n",
       "      <td>18680.8</td>\n",
       "      <td>28021.2</td>\n",
       "      <td>42641.2</td>\n",
       "      <td>23688.9</td>\n",
       "      <td>35534.5</td>\n",
       "    </tr>\n",
       "  </tbody>\n",
       "</table>\n",
       "</div>"
      ],
      "text/plain": [
       "                       artist sale_price low_est high_est sale_month  \\\n",
       "0                Anselm Reyle      31200   25000    35000        Oct   \n",
       "1               Paul Pfeiffer      16800   15000    20000        Oct   \n",
       "2                Tom Friedman      34800   30000    40000        Oct   \n",
       "3              Johannes Kahrs      78000   30000    40000        Oct   \n",
       "4  Ronan and Erwan Bouroullec      18000   10000    15000        Oct   \n",
       "\n",
       "  sale_year sale_location currency  sale_month_num converted_sale  \\\n",
       "0      2006        London      GBP              10        58284.2   \n",
       "1      2006        London      GBP              10        31383.8   \n",
       "2      2006        London      GBP              10        65009.3   \n",
       "3      2006        London      GBP              10         145710   \n",
       "4      2006        London      GBP              10        33625.5   \n",
       "\n",
       "  converted_low_est converted_high_est sale_price_adj low_est_adj high_est_adj  \n",
       "0           46702.1            65382.9        73912.3     59224.7      82913.5  \n",
       "1           28021.2            37361.7          39798     35534.5        47379  \n",
       "2           56042.5            74723.3        82440.5     71069.1      94759.2  \n",
       "3           56042.5            74723.3         184781     71069.1      94759.2  \n",
       "4           18680.8            28021.2        42641.2     23688.9      35534.5  "
      ]
     },
     "execution_count": 504,
     "metadata": {},
     "output_type": "execute_result"
    }
   ],
   "source": [
    "clean_data.head()"
   ]
  },
  {
   "cell_type": "code",
   "execution_count": null,
   "metadata": {},
   "outputs": [],
   "source": []
  },
  {
   "cell_type": "markdown",
   "metadata": {},
   "source": [
    "# Add a performance metric  => sale_price / low_est"
   ]
  },
  {
   "cell_type": "code",
   "execution_count": 508,
   "metadata": {},
   "outputs": [],
   "source": [
    "e = 0.00001\n",
    "clean_data['performance'] = clean_data.apply(lambda x: float(x['sale_price_adj']) / (float(x['low_est_adj']) + e), axis=1)"
   ]
  },
  {
   "cell_type": "code",
   "execution_count": 510,
   "metadata": {},
   "outputs": [
    {
     "data": {
      "text/html": [
       "<div>\n",
       "<style scoped>\n",
       "    .dataframe tbody tr th:only-of-type {\n",
       "        vertical-align: middle;\n",
       "    }\n",
       "\n",
       "    .dataframe tbody tr th {\n",
       "        vertical-align: top;\n",
       "    }\n",
       "\n",
       "    .dataframe thead th {\n",
       "        text-align: right;\n",
       "    }\n",
       "</style>\n",
       "<table border=\"1\" class=\"dataframe\">\n",
       "  <thead>\n",
       "    <tr style=\"text-align: right;\">\n",
       "      <th></th>\n",
       "      <th>artist</th>\n",
       "      <th>sale_price</th>\n",
       "      <th>low_est</th>\n",
       "      <th>high_est</th>\n",
       "      <th>sale_month</th>\n",
       "      <th>sale_year</th>\n",
       "      <th>sale_location</th>\n",
       "      <th>currency</th>\n",
       "      <th>sale_month_num</th>\n",
       "      <th>converted_sale</th>\n",
       "      <th>converted_low_est</th>\n",
       "      <th>converted_high_est</th>\n",
       "      <th>sale_price_adj</th>\n",
       "      <th>low_est_adj</th>\n",
       "      <th>high_est_adj</th>\n",
       "      <th>performance</th>\n",
       "    </tr>\n",
       "  </thead>\n",
       "  <tbody>\n",
       "    <tr>\n",
       "      <th>0</th>\n",
       "      <td>Anselm Reyle</td>\n",
       "      <td>31200</td>\n",
       "      <td>25000</td>\n",
       "      <td>35000</td>\n",
       "      <td>Oct</td>\n",
       "      <td>2006</td>\n",
       "      <td>London</td>\n",
       "      <td>GBP</td>\n",
       "      <td>10</td>\n",
       "      <td>58284.2</td>\n",
       "      <td>46702.1</td>\n",
       "      <td>65382.9</td>\n",
       "      <td>73912.3</td>\n",
       "      <td>59224.7</td>\n",
       "      <td>82913.5</td>\n",
       "      <td>1.247998</td>\n",
       "    </tr>\n",
       "    <tr>\n",
       "      <th>1</th>\n",
       "      <td>Paul Pfeiffer</td>\n",
       "      <td>16800</td>\n",
       "      <td>15000</td>\n",
       "      <td>20000</td>\n",
       "      <td>Oct</td>\n",
       "      <td>2006</td>\n",
       "      <td>London</td>\n",
       "      <td>GBP</td>\n",
       "      <td>10</td>\n",
       "      <td>31383.8</td>\n",
       "      <td>28021.2</td>\n",
       "      <td>37361.7</td>\n",
       "      <td>39798</td>\n",
       "      <td>35534.5</td>\n",
       "      <td>47379</td>\n",
       "      <td>1.119981</td>\n",
       "    </tr>\n",
       "    <tr>\n",
       "      <th>2</th>\n",
       "      <td>Tom Friedman</td>\n",
       "      <td>34800</td>\n",
       "      <td>30000</td>\n",
       "      <td>40000</td>\n",
       "      <td>Oct</td>\n",
       "      <td>2006</td>\n",
       "      <td>London</td>\n",
       "      <td>GBP</td>\n",
       "      <td>10</td>\n",
       "      <td>65009.3</td>\n",
       "      <td>56042.5</td>\n",
       "      <td>74723.3</td>\n",
       "      <td>82440.5</td>\n",
       "      <td>71069.1</td>\n",
       "      <td>94759.2</td>\n",
       "      <td>1.160005</td>\n",
       "    </tr>\n",
       "    <tr>\n",
       "      <th>3</th>\n",
       "      <td>Johannes Kahrs</td>\n",
       "      <td>78000</td>\n",
       "      <td>30000</td>\n",
       "      <td>40000</td>\n",
       "      <td>Oct</td>\n",
       "      <td>2006</td>\n",
       "      <td>London</td>\n",
       "      <td>GBP</td>\n",
       "      <td>10</td>\n",
       "      <td>145710</td>\n",
       "      <td>56042.5</td>\n",
       "      <td>74723.3</td>\n",
       "      <td>184781</td>\n",
       "      <td>71069.1</td>\n",
       "      <td>94759.2</td>\n",
       "      <td>2.600014</td>\n",
       "    </tr>\n",
       "    <tr>\n",
       "      <th>4</th>\n",
       "      <td>Ronan and Erwan Bouroullec</td>\n",
       "      <td>18000</td>\n",
       "      <td>10000</td>\n",
       "      <td>15000</td>\n",
       "      <td>Oct</td>\n",
       "      <td>2006</td>\n",
       "      <td>London</td>\n",
       "      <td>GBP</td>\n",
       "      <td>10</td>\n",
       "      <td>33625.5</td>\n",
       "      <td>18680.8</td>\n",
       "      <td>28021.2</td>\n",
       "      <td>42641.2</td>\n",
       "      <td>23688.9</td>\n",
       "      <td>35534.5</td>\n",
       "      <td>1.800054</td>\n",
       "    </tr>\n",
       "  </tbody>\n",
       "</table>\n",
       "</div>"
      ],
      "text/plain": [
       "                       artist sale_price low_est high_est sale_month  \\\n",
       "0                Anselm Reyle      31200   25000    35000        Oct   \n",
       "1               Paul Pfeiffer      16800   15000    20000        Oct   \n",
       "2                Tom Friedman      34800   30000    40000        Oct   \n",
       "3              Johannes Kahrs      78000   30000    40000        Oct   \n",
       "4  Ronan and Erwan Bouroullec      18000   10000    15000        Oct   \n",
       "\n",
       "  sale_year sale_location currency  sale_month_num converted_sale  \\\n",
       "0      2006        London      GBP              10        58284.2   \n",
       "1      2006        London      GBP              10        31383.8   \n",
       "2      2006        London      GBP              10        65009.3   \n",
       "3      2006        London      GBP              10         145710   \n",
       "4      2006        London      GBP              10        33625.5   \n",
       "\n",
       "  converted_low_est converted_high_est sale_price_adj low_est_adj  \\\n",
       "0           46702.1            65382.9        73912.3     59224.7   \n",
       "1           28021.2            37361.7          39798     35534.5   \n",
       "2           56042.5            74723.3        82440.5     71069.1   \n",
       "3           56042.5            74723.3         184781     71069.1   \n",
       "4           18680.8            28021.2        42641.2     23688.9   \n",
       "\n",
       "  high_est_adj  performance  \n",
       "0      82913.5     1.247998  \n",
       "1        47379     1.119981  \n",
       "2      94759.2     1.160005  \n",
       "3      94759.2     2.600014  \n",
       "4      35534.5     1.800054  "
      ]
     },
     "execution_count": 510,
     "metadata": {},
     "output_type": "execute_result"
    }
   ],
   "source": [
    "clean_data.head()"
   ]
  },
  {
   "cell_type": "code",
   "execution_count": null,
   "metadata": {},
   "outputs": [],
   "source": []
  },
  {
   "cell_type": "code",
   "execution_count": 512,
   "metadata": {},
   "outputs": [
    {
     "data": {
      "text/plain": [
       "count    4544.000000\n",
       "mean        1.408725\n",
       "std         1.325707\n",
       "min         0.000000\n",
       "25%         0.818625\n",
       "50%         1.249897\n",
       "75%         1.785710\n",
       "max        14.133333\n",
       "Name: performance, dtype: float64"
      ]
     },
     "execution_count": 512,
     "metadata": {},
     "output_type": "execute_result"
    }
   ],
   "source": [
    "clean_data['performance'].describe()"
   ]
  },
  {
   "cell_type": "code",
   "execution_count": null,
   "metadata": {},
   "outputs": [],
   "source": []
  },
  {
   "cell_type": "markdown",
   "metadata": {},
   "source": [
    "# save the cleanded data"
   ]
  },
  {
   "cell_type": "code",
   "execution_count": 513,
   "metadata": {},
   "outputs": [
    {
     "data": {
      "text/plain": [
       "(4544, 7)"
      ]
     },
     "execution_count": 513,
     "metadata": {},
     "output_type": "execute_result"
    }
   ],
   "source": [
    "final_data = clean_data[[\n",
    "    'artist',\n",
    "    'sale_year',\n",
    "    'sale_location',\n",
    "    'sale_price_adj',\n",
    "    'low_est_adj',\n",
    "    'high_est_adj',\n",
    "    'performance'\n",
    "]]\n",
    "\n",
    "final_data.shape"
   ]
  },
  {
   "cell_type": "code",
   "execution_count": 514,
   "metadata": {},
   "outputs": [
    {
     "data": {
      "text/html": [
       "<div>\n",
       "<style scoped>\n",
       "    .dataframe tbody tr th:only-of-type {\n",
       "        vertical-align: middle;\n",
       "    }\n",
       "\n",
       "    .dataframe tbody tr th {\n",
       "        vertical-align: top;\n",
       "    }\n",
       "\n",
       "    .dataframe thead th {\n",
       "        text-align: right;\n",
       "    }\n",
       "</style>\n",
       "<table border=\"1\" class=\"dataframe\">\n",
       "  <thead>\n",
       "    <tr style=\"text-align: right;\">\n",
       "      <th></th>\n",
       "      <th>artist</th>\n",
       "      <th>sale_year</th>\n",
       "      <th>sale_location</th>\n",
       "      <th>sale_price_adj</th>\n",
       "      <th>low_est_adj</th>\n",
       "      <th>high_est_adj</th>\n",
       "      <th>performance</th>\n",
       "    </tr>\n",
       "  </thead>\n",
       "  <tbody>\n",
       "    <tr>\n",
       "      <th>0</th>\n",
       "      <td>Anselm Reyle</td>\n",
       "      <td>2006</td>\n",
       "      <td>London</td>\n",
       "      <td>73912.3</td>\n",
       "      <td>59224.7</td>\n",
       "      <td>82913.5</td>\n",
       "      <td>1.247998</td>\n",
       "    </tr>\n",
       "    <tr>\n",
       "      <th>1</th>\n",
       "      <td>Paul Pfeiffer</td>\n",
       "      <td>2006</td>\n",
       "      <td>London</td>\n",
       "      <td>39798</td>\n",
       "      <td>35534.5</td>\n",
       "      <td>47379</td>\n",
       "      <td>1.119981</td>\n",
       "    </tr>\n",
       "    <tr>\n",
       "      <th>2</th>\n",
       "      <td>Tom Friedman</td>\n",
       "      <td>2006</td>\n",
       "      <td>London</td>\n",
       "      <td>82440.5</td>\n",
       "      <td>71069.1</td>\n",
       "      <td>94759.2</td>\n",
       "      <td>1.160005</td>\n",
       "    </tr>\n",
       "    <tr>\n",
       "      <th>3</th>\n",
       "      <td>Johannes Kahrs</td>\n",
       "      <td>2006</td>\n",
       "      <td>London</td>\n",
       "      <td>184781</td>\n",
       "      <td>71069.1</td>\n",
       "      <td>94759.2</td>\n",
       "      <td>2.600014</td>\n",
       "    </tr>\n",
       "    <tr>\n",
       "      <th>4</th>\n",
       "      <td>Ronan and Erwan Bouroullec</td>\n",
       "      <td>2006</td>\n",
       "      <td>London</td>\n",
       "      <td>42641.2</td>\n",
       "      <td>23688.9</td>\n",
       "      <td>35534.5</td>\n",
       "      <td>1.800054</td>\n",
       "    </tr>\n",
       "  </tbody>\n",
       "</table>\n",
       "</div>"
      ],
      "text/plain": [
       "                       artist sale_year sale_location sale_price_adj  \\\n",
       "0                Anselm Reyle      2006        London        73912.3   \n",
       "1               Paul Pfeiffer      2006        London          39798   \n",
       "2                Tom Friedman      2006        London        82440.5   \n",
       "3              Johannes Kahrs      2006        London         184781   \n",
       "4  Ronan and Erwan Bouroullec      2006        London        42641.2   \n",
       "\n",
       "  low_est_adj high_est_adj  performance  \n",
       "0     59224.7      82913.5     1.247998  \n",
       "1     35534.5        47379     1.119981  \n",
       "2     71069.1      94759.2     1.160005  \n",
       "3     71069.1      94759.2     2.600014  \n",
       "4     23688.9      35534.5     1.800054  "
      ]
     },
     "execution_count": 514,
     "metadata": {},
     "output_type": "execute_result"
    }
   ],
   "source": [
    "final_data.head()"
   ]
  },
  {
   "cell_type": "code",
   "execution_count": null,
   "metadata": {},
   "outputs": [],
   "source": []
  },
  {
   "cell_type": "code",
   "execution_count": 522,
   "metadata": {},
   "outputs": [],
   "source": [
    "final_data.to_csv(path+'clean_adj_sale_prices.csv', index=False)"
   ]
  },
  {
   "cell_type": "code",
   "execution_count": 531,
   "metadata": {},
   "outputs": [
    {
     "name": "stderr",
     "output_type": "stream",
     "text": [
      "C:\\Users\\Andrew\\anaconda3\\lib\\site-packages\\ipykernel_launcher.py:1: SettingWithCopyWarning: \n",
      "A value is trying to be set on a copy of a slice from a DataFrame.\n",
      "Try using .loc[row_indexer,col_indexer] = value instead\n",
      "\n",
      "See the caveats in the documentation: https://pandas.pydata.org/pandas-docs/stable/user_guide/indexing.html#returning-a-view-versus-a-copy\n",
      "  \"\"\"Entry point for launching an IPython kernel.\n",
      "C:\\Users\\Andrew\\anaconda3\\lib\\site-packages\\ipykernel_launcher.py:2: SettingWithCopyWarning: \n",
      "A value is trying to be set on a copy of a slice from a DataFrame.\n",
      "Try using .loc[row_indexer,col_indexer] = value instead\n",
      "\n",
      "See the caveats in the documentation: https://pandas.pydata.org/pandas-docs/stable/user_guide/indexing.html#returning-a-view-versus-a-copy\n",
      "  \n",
      "C:\\Users\\Andrew\\anaconda3\\lib\\site-packages\\ipykernel_launcher.py:3: SettingWithCopyWarning: \n",
      "A value is trying to be set on a copy of a slice from a DataFrame.\n",
      "Try using .loc[row_indexer,col_indexer] = value instead\n",
      "\n",
      "See the caveats in the documentation: https://pandas.pydata.org/pandas-docs/stable/user_guide/indexing.html#returning-a-view-versus-a-copy\n",
      "  This is separate from the ipykernel package so we can avoid doing imports until\n",
      "C:\\Users\\Andrew\\anaconda3\\lib\\site-packages\\ipykernel_launcher.py:4: SettingWithCopyWarning: \n",
      "A value is trying to be set on a copy of a slice from a DataFrame.\n",
      "Try using .loc[row_indexer,col_indexer] = value instead\n",
      "\n",
      "See the caveats in the documentation: https://pandas.pydata.org/pandas-docs/stable/user_guide/indexing.html#returning-a-view-versus-a-copy\n",
      "  after removing the cwd from sys.path.\n",
      "C:\\Users\\Andrew\\anaconda3\\lib\\site-packages\\ipykernel_launcher.py:5: SettingWithCopyWarning: \n",
      "A value is trying to be set on a copy of a slice from a DataFrame.\n",
      "Try using .loc[row_indexer,col_indexer] = value instead\n",
      "\n",
      "See the caveats in the documentation: https://pandas.pydata.org/pandas-docs/stable/user_guide/indexing.html#returning-a-view-versus-a-copy\n",
      "  \"\"\"\n"
     ]
    }
   ],
   "source": [
    "final_data['sale_price_adj'] = pd.to_numeric(final_data['sale_price_adj'])\n",
    "final_data['sale_year'] = pd.to_numeric(final_data['sale_year'])\n",
    "final_data['low_est_adj'] = pd.to_numeric(final_data['low_est_adj'])\n",
    "final_data['high_est_adj'] = pd.to_numeric(final_data['high_est_adj'])\n",
    "final_data['performance'] = pd.to_numeric(final_data['performance'])"
   ]
  },
  {
   "cell_type": "code",
   "execution_count": 535,
   "metadata": {},
   "outputs": [
    {
     "data": {
      "text/plain": [
       "sale_location\n",
       "Hong Kong     $45,262,361.32\n",
       "London       $916,244,809.33\n",
       "New York     $718,106,673.69\n",
       "Online         $7,454,780.00\n",
       "Name: sale_price_adj, dtype: object"
      ]
     },
     "execution_count": 535,
     "metadata": {},
     "output_type": "execute_result"
    }
   ],
   "source": [
    "final_data.groupby(['sale_location'])['sale_price_adj'].sum().map('${:,.2f}'.format)"
   ]
  },
  {
   "cell_type": "code",
   "execution_count": null,
   "metadata": {},
   "outputs": [],
   "source": []
  },
  {
   "cell_type": "code",
   "execution_count": null,
   "metadata": {},
   "outputs": [],
   "source": []
  },
  {
   "cell_type": "code",
   "execution_count": null,
   "metadata": {},
   "outputs": [],
   "source": []
  }
 ],
 "metadata": {
  "kernelspec": {
   "display_name": "Python 3",
   "language": "python",
   "name": "python3"
  },
  "language_info": {
   "codemirror_mode": {
    "name": "ipython",
    "version": 3
   },
   "file_extension": ".py",
   "mimetype": "text/x-python",
   "name": "python",
   "nbconvert_exporter": "python",
   "pygments_lexer": "ipython3",
   "version": "3.7.6"
  }
 },
 "nbformat": 4,
 "nbformat_minor": 4
}
